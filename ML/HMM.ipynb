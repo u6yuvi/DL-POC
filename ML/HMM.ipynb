{
  "nbformat": 4,
  "nbformat_minor": 0,
  "metadata": {
    "colab": {
      "name": "HMM.ipynb",
      "provenance": [],
      "collapsed_sections": [
        "Z3zUUYH0giKV",
        "qBCrFobsEM8X"
      ],
      "include_colab_link": true
    },
    "kernelspec": {
      "name": "python3",
      "display_name": "Python 3"
    },
    "accelerator": "GPU"
  },
  "cells": [
    {
      "cell_type": "markdown",
      "metadata": {
        "id": "view-in-github",
        "colab_type": "text"
      },
      "source": [
        "<a href=\"https://colab.research.google.com/github/u6yuvi/DL-POC/blob/main/ML/HMM.ipynb\" target=\"_parent\"><img src=\"https://colab.research.google.com/assets/colab-badge.svg\" alt=\"Open In Colab\"/></a>"
      ]
    },
    {
      "cell_type": "markdown",
      "metadata": {
        "id": "lDJIV2EVBuFZ"
      },
      "source": [
        "# Fun with Hidden Markov Models\n",
        "*by Loren Lugosch*"
      ]
    },
    {
      "cell_type": "markdown",
      "metadata": {
        "id": "_rWFkdjYOlk8"
      },
      "source": [
        "This notebook introduces the Hidden Markov Model (HMM), a simple model for sequential data.\n",
        "\n",
        "We will see:\n",
        "- what an HMM is and when you might want to use it;\n",
        "- the so-called \"three problems\" of an HMM; and \n",
        "- how to implement an HMM in PyTorch.\n",
        "\n",
        "(The code in this notebook can also be found at https://github.com/lorenlugosch/pytorch_HMM.)"
      ]
    },
    {
      "cell_type": "code",
      "metadata": {
        "id": "1iA4kvuCtaWH"
      },
      "source": [
        "#The notebook broke when Colab upgraded its version of PyTorch. Not sure why that is, but using this version instead fixes it:\n",
        "!pip install torch==1.5.0"
      ],
      "execution_count": null,
      "outputs": []
    },
    {
      "cell_type": "markdown",
      "metadata": {
        "id": "efPPcGy0gP6H"
      },
      "source": [
        "A hypothetical scenario\n",
        "------\n",
        "\n",
        "To motivate the use of HMMs, imagine that you have a friend who gets to do a lot of travelling. Every day, this jet-setting friend sends you a selfie from the city they’re in, to make you envious."
      ]
    },
    {
      "cell_type": "markdown",
      "metadata": {
        "id": "Cs3z7pnVib9g"
      },
      "source": [
        "<center>\n",
        "\n",
        "![Diagram of a traveling friend sending selfies](https://github.com/lorenlugosch/pytorch_HMM/blob/master/img/selfies.png?raw=true)\n",
        "</center>\n",
        "\n",
        "\n",
        "\n"
      ]
    },
    {
      "cell_type": "markdown",
      "metadata": {
        "id": "hTPNK3IjirDA"
      },
      "source": [
        "How would you go about guessing which city the friend is in each day, just by looking at the selfies?\n",
        "\n",
        "If the selfie contains a really obvious landmark, like the Eiffel Tower, it will be easy to figure out where the photo was taken. If not, it will be a lot harder to infer the city.\n",
        "\n",
        "But we have a clue to help us: the city the friend is in each day is not totally random. For example, the friend will probably remain in the same city for a few days to sightsee before flying to a new city."
      ]
    },
    {
      "cell_type": "markdown",
      "metadata": {
        "id": "k4g7IG7CBx-Y"
      },
      "source": [
        "## The HMM setup\n",
        "\n",
        "The hypothetical scenario of the friend travelling between cities and sending you selfies can be modeled using an HMM.\n"
      ]
    },
    {
      "cell_type": "markdown",
      "metadata": {
        "id": "NpwgbDTnRzRa"
      },
      "source": [
        "An HMM models a system that is in a particular state at any given time and produces an output that depends on that state. \n",
        "\n",
        "At each timestep or clock tick, the system randomly decides on a new state and jumps into that state. The system then randomly generates an observation. The states are \"hidden\": we can't observe them. (In the cities/selfies analogy, the unknown cities would be the hidden states, and the selfies would be the observations.)\n",
        "\n",
        "Let's denote the sequence of states as $\\mathbf{z} = \\{z_1, z_2, \\dots, z_T \\}$, where each state is one of a finite set of $N$ states, and the sequence of observations as $\\mathbf{x} = \\{x_1, x_2, \\dots, x_T\\}$. The observations could be discrete, like letters, or real-valued, like audio frames."
      ]
    },
    {
      "cell_type": "markdown",
      "metadata": {
        "id": "uV5fAhEQDAcJ"
      },
      "source": [
        "<center>\n",
        "\n",
        "![Diagram of an HMM for three timesteps](https://github.com/lorenlugosch/pytorch_HMM/blob/master/img/hmm.png?raw=true)\n",
        "</center>"
      ]
    },
    {
      "cell_type": "markdown",
      "metadata": {
        "id": "vMPrA6Uv-u-K"
      },
      "source": [
        "An HMM makes two key assumptions:\n",
        "- **Assumption 1:** The state at time $t$ depends *only* on the state at the previous time $t-1$. \n",
        "- **Assumption 2:** The output at time $t$ depends *only* on the state at time $t$.\n",
        "\n",
        "These two assumptions make it possible to efficiently compute certain quantities that we may be interested in."
      ]
    },
    {
      "cell_type": "markdown",
      "metadata": {
        "id": "mRNhSK7LgEIS"
      },
      "source": [
        "## Components of an HMM\n",
        "An HMM has three sets of trainable parameters.\n",
        "  \n"
      ]
    },
    {
      "cell_type": "markdown",
      "metadata": {
        "id": "7Pu3zm77vXwp"
      },
      "source": [
        "- The **transition model** is a square matrix $A$, where $A_{s, s'}$ represents $p(z_t = s|z_{t-1} = s')$, the probability of jumping from state $s'$ to state $s$. \n",
        "\n",
        "- The **emission model** $b_s(x_t)$ tells us $p(x_t|z_t = s)$, the probability of generating $x_t$ when the system is in state $s$. For discrete observations, which we will use in this notebook, the emission model is just a lookup table, with one row for each state, and one column for each observation. For real-valued observations, it is common to use a Gaussian mixture model or neural network to implement the emission model. \n",
        "\n",
        "- The **state priors** tell us $p(z_1 = s)$, the probability of starting in state $s$. We use $\\pi$ to denote the vector of state priors, so $\\pi_s$ is the state prior for state $s$.\n",
        "\n",
        "Let's program an HMM class in PyTorch."
      ]
    },
    {
      "cell_type": "code",
      "metadata": {
        "id": "aZbW6Pj0og7K"
      },
      "source": [
        "import torch\n",
        "import numpy as np\n",
        "\n",
        "class HMM(torch.nn.Module):\n",
        "  \"\"\"\n",
        "  Hidden Markov Model with discrete observations.\n",
        "  \"\"\"\n",
        "  def __init__(self, M, N):\n",
        "    super(HMM, self).__init__()\n",
        "    self.M = M # number of possible observations\n",
        "    self.N = N # number of states\n",
        "\n",
        "    # A\n",
        "    self.transition_model = TransitionModel(self.N)\n",
        "\n",
        "    # b(x_t)\n",
        "    self.emission_model = EmissionModel(self.N,self.M)\n",
        "\n",
        "    # pi\n",
        "    self.unnormalized_state_priors = torch.nn.Parameter(torch.randn(self.N))\n",
        "\n",
        "    # use the GPU\n",
        "    self.is_cuda = torch.cuda.is_available()\n",
        "    if self.is_cuda: self.cuda()\n",
        "\n",
        "class TransitionModel(torch.nn.Module):\n",
        "  def __init__(self, N):\n",
        "    super(TransitionModel, self).__init__()\n",
        "    self.N = N\n",
        "    self.unnormalized_transition_matrix = torch.nn.Parameter(torch.randn(N,N))\n",
        "\n",
        "class EmissionModel(torch.nn.Module):\n",
        "  def __init__(self, N, M):\n",
        "    super(EmissionModel, self).__init__()\n",
        "    self.N = N\n",
        "    self.M = M\n",
        "    self.unnormalized_emission_matrix = torch.nn.Parameter(torch.randn(N,M))"
      ],
      "execution_count": null,
      "outputs": []
    },
    {
      "cell_type": "markdown",
      "metadata": {
        "id": "eom3ueYtpXGo"
      },
      "source": [
        "To sample from the HMM, we start by picking a random initial state from the state prior distribution.\n",
        "\n",
        "Then, we sample an output from the emission distribution, sample a transition from the transition distribution, and repeat.\n",
        "\n",
        "(Notice that we pass the unnormalized model parameters through a softmax function to make them into probabilities.)\n"
      ]
    },
    {
      "cell_type": "code",
      "metadata": {
        "id": "BpgkwNyVwmyM"
      },
      "source": [
        "def sample(self, T=10):\n",
        "  state_priors = torch.nn.functional.softmax(self.unnormalized_state_priors, dim=0)\n",
        "  transition_matrix = torch.nn.functional.softmax(self.transition_model.unnormalized_transition_matrix, dim=0)\n",
        "  emission_matrix = torch.nn.functional.softmax(self.emission_model.unnormalized_emission_matrix, dim=1)\n",
        "\n",
        "  # sample initial state\n",
        "  z_t = torch.distributions.categorical.Categorical(state_priors).sample().item()\n",
        "  z = []; x = []\n",
        "  z.append(z_t)\n",
        "  for t in range(0,T):\n",
        "    # sample emission\n",
        "    x_t = torch.distributions.categorical.Categorical(emission_matrix[z_t]).sample().item()\n",
        "    x.append(x_t)\n",
        "\n",
        "    # sample transition\n",
        "    z_t = torch.distributions.categorical.Categorical(transition_matrix[:,z_t]).sample().item()\n",
        "    if t < T-1: z.append(z_t)\n",
        "\n",
        "  return x, z\n",
        "\n",
        "# Add the sampling method to our HMM class\n",
        "HMM.sample = sample"
      ],
      "execution_count": null,
      "outputs": []
    },
    {
      "cell_type": "markdown",
      "metadata": {
        "id": "ohsdYScawkRG"
      },
      "source": [
        "Let's try hard-coding an HMM for generating fake words. (We'll also add some helper functions for encoding and decoding strings.)\n",
        "\n",
        "We will assume that the system has one state for generating vowels and one state for generating consonants, and the transition matrix has 0s on the diagonal---in other words, the system cannot stay in the vowel state or the consonant state for one than one timestep; it has to switch.\n",
        "\n",
        "Since we pass the transition matrix through a softmax, to get 0s we set the unnormalized parameter values to $-\\infty$."
      ]
    },
    {
      "cell_type": "code",
      "metadata": {
        "id": "eyR7yv_3sBG3",
        "colab": {
          "base_uri": "https://localhost:8080/",
          "height": 181
        },
        "outputId": "a8daf7cd-9cd3-4741-8cf3-1ec10a3b0ea2"
      },
      "source": [
        "import string\n",
        "alphabet = string.ascii_lowercase\n",
        "\n",
        "def encode(s):\n",
        "  \"\"\"\n",
        "  Convert a string into a list of integers\n",
        "  \"\"\"\n",
        "  x = [alphabet.index(ss) for ss in s]\n",
        "  return x\n",
        "\n",
        "def decode(x):\n",
        "  \"\"\"\n",
        "  Convert list of ints to string\n",
        "  \"\"\"\n",
        "  s = \"\".join([alphabet[xx] for xx in x])\n",
        "  return s\n",
        "\n",
        "# Initialize the model\n",
        "model = HMM(M=len(alphabet), N=2) \n",
        "\n",
        "# Hard-wiring the parameters!\n",
        "# Let state 0 = consonant, state 1 = vowel\n",
        "model.unnormalized_state_priors[0] = 0.    # Let's start with a consonant more frequently\n",
        "model.unnormalized_state_priors[1] = -0.5\n",
        "print(\"State priors:\", torch.nn.functional.softmax(model.unnormalized_state_priors, dim=0))\n",
        "\n",
        "# In state 0, only allow consonants; in state 1, only allow vowels\n",
        "vowel_indices = torch.tensor([alphabet.index(letter) for letter in \"aeiou\"])\n",
        "consonant_indices = torch.tensor([alphabet.index(letter) for letter in \"bcdfghjklmnpqrstvwxyz\"])\n",
        "model.emission_model.unnormalized_emission_matrix[0, vowel_indices] = -np.inf\n",
        "model.emission_model.unnormalized_emission_matrix[1, consonant_indices] = -np.inf \n",
        "print(\"Emission matrix:\", torch.nn.functional.softmax(model.emission_model.unnormalized_emission_matrix, dim=1))\n",
        "\n",
        "# Only allow vowel -> consonant and consonant -> vowel\n",
        "model.transition_model.unnormalized_transition_matrix[0,0] = -np.inf  # consonant -> consonant\n",
        "model.transition_model.unnormalized_transition_matrix[0,1] = 0.       # vowel -> consonant\n",
        "model.transition_model.unnormalized_transition_matrix[1,0] = 0.       # consonant -> vowel\n",
        "model.transition_model.unnormalized_transition_matrix[1,1] = -np.inf  # vowel -> vowel\n",
        "print(\"Transition matrix:\", torch.nn.functional.softmax(model.transition_model.unnormalized_transition_matrix, dim=0))\n",
        "\n"
      ],
      "execution_count": null,
      "outputs": [
        {
          "output_type": "stream",
          "text": [
            "State priors: tensor([0.6225, 0.3775], grad_fn=<SoftmaxBackward>)\n",
            "Emission matrix: tensor([[0.0000, 0.0751, 0.0075, 0.0114, 0.0000, 0.0372, 0.0397, 0.0611, 0.0000,\n",
            "         0.0152, 0.0383, 0.0706, 0.0287, 0.0103, 0.0000, 0.0987, 0.1566, 0.1070,\n",
            "         0.0462, 0.0285, 0.0000, 0.0177, 0.0613, 0.0285, 0.0265, 0.0338],\n",
            "        [0.0956, 0.0000, 0.0000, 0.0000, 0.0240, 0.0000, 0.0000, 0.0000, 0.0440,\n",
            "         0.0000, 0.0000, 0.0000, 0.0000, 0.0000, 0.4317, 0.0000, 0.0000, 0.0000,\n",
            "         0.0000, 0.0000, 0.4047, 0.0000, 0.0000, 0.0000, 0.0000, 0.0000]],\n",
            "       grad_fn=<SoftmaxBackward>)\n",
            "Transition matrix: tensor([[0., 1.],\n",
            "        [1., 0.]], grad_fn=<SoftmaxBackward>)\n"
          ],
          "name": "stdout"
        }
      ]
    },
    {
      "cell_type": "markdown",
      "metadata": {
        "id": "KFaYq8jDttmi"
      },
      "source": [
        "Try sampling from our hard-coded model:\n"
      ]
    },
    {
      "cell_type": "code",
      "metadata": {
        "id": "8latFMD7ua0X",
        "colab": {
          "base_uri": "https://localhost:8080/",
          "height": 148
        },
        "outputId": "fa498fcb-d89e-42b2-862f-ca5874bec6c4"
      },
      "source": [
        "# Sample some outputs\n",
        "for _ in range(4):\n",
        "  sampled_x, sampled_z = model.sample(T=5)\n",
        "  print(\"x:\", decode(sampled_x))\n",
        "  print(\"z:\", sampled_z)"
      ],
      "execution_count": null,
      "outputs": [
        {
          "output_type": "stream",
          "text": [
            "x: mofod\n",
            "z: [0, 1, 0, 1, 0]\n",
            "x: towop\n",
            "z: [0, 1, 0, 1, 0]\n",
            "x: ehuso\n",
            "z: [1, 0, 1, 0, 1]\n",
            "x: noruq\n",
            "z: [0, 1, 0, 1, 0]\n"
          ],
          "name": "stdout"
        }
      ]
    },
    {
      "cell_type": "markdown",
      "metadata": {
        "id": "hKzlTlfRgZod"
      },
      "source": [
        "## The Three Problems\n",
        "\n",
        "In a [classic tutorial](https://www.cs.cmu.edu/~cga/behavior/rabiner1.pdf) on HMMs, Lawrence Rabiner describes \"three problems\" that need to be solved before you can effectively use an HMM. They are:\n",
        "- Problem 1: How do we efficiently compute $p(\\mathbf{x})$?\n",
        "- Problem 2: How do we find the most likely state sequence $\\mathbf{z}$ that could have generated the data? \n",
        "- Problem 3: How do we train the model?\n",
        "\n",
        "In the rest of the notebook, we will see how to solve each problem and implement the solutions in PyTorch."
      ]
    },
    {
      "cell_type": "markdown",
      "metadata": {
        "id": "v_RfIAnmN2RZ"
      },
      "source": [
        "### Problem 1: How do we compute $p(\\mathbf{x})$?"
      ]
    },
    {
      "cell_type": "markdown",
      "metadata": {
        "id": "Z3zUUYH0giKV"
      },
      "source": [
        "\n",
        "#### *Why?*\n",
        "Why might we care about computing $p(\\mathbf{x})$? Here's two reasons.\n",
        "* Given two HMMs, $\\theta_1$ and $\\theta_2$, we can compute the likelihood of some data $\\mathbf{x}$ under each model, $p_{\\theta_1}(\\mathbf{x})$ and $p_{\\theta_2}(\\mathbf{x})$, to decide which model is a better fit to the data. \n",
        "\n",
        "  (For example, given an HMM for English speech and an HMM for French speech, we could compute the likelihood given each model, and pick the model with the higher likelihood to infer whether the person is speaking English or French.)\n",
        "* Being able to compute $p(\\mathbf{x})$ gives us a way to train the model, as we will see later.\n",
        "\n",
        "#### *How?*\n",
        "Given that we want $p(\\mathbf{x})$, how do we compute it?\n",
        "\n",
        "We've assumed that the data is generated by visiting some sequence of states $\\mathbf{z}$ and picking an output $x_t$ for each $z_t$ from the emission distribution $p(x_t|z_t)$. So if we knew $\\mathbf{z}$, then the probability of $\\mathbf{x}$ could be computed as follows:\n",
        "\n",
        "$$p(\\mathbf{x}|\\mathbf{z}) = \\prod_{t} p(x_t|z_t) p(z_t|z_{t-1})$$\n",
        "\n",
        "However, we don't know $\\mathbf{z}$; it's hidden. But we do know the probability of any given $\\mathbf{z}$, independent of what we observe. So we could get the probability of $\\mathbf{x}$ by summing over the different possibilities for $\\mathbf{z}$, like this:\n",
        "\n",
        "$$p(\\mathbf{x}) = \\sum_{\\mathbf{z}} p(\\mathbf{x}|\\mathbf{z}) p(\\mathbf{z}) = \\sum_{\\mathbf{z}} \\prod_{t} p(x_t|z_t) p(z_t|z_{t-1})$$\n",
        "\n",
        "The problem is: if you try to take that sum directly, you will need to compute $N^T$ terms. This is impossible to do for anything but very short sequences. For example, let's say the sequence is of length $T=100$ and there are $N=2$ possible states. Then we would need to check $N^T = 2^{100} \\approx 10^{30}$ different possible state sequences.\n",
        "\n",
        "We need a way to compute $p(\\mathbf{x})$ that doesn't require us to explicitly calculate all $N^T$ terms. For this, we use the forward algorithm."
      ]
    },
    {
      "cell_type": "markdown",
      "metadata": {
        "id": "DrH0YdUAhS6J"
      },
      "source": [
        "________\n",
        "\n",
        "<u><b>The Forward Algorithm</b></u>\n",
        "\n",
        "> for $s=1 \\rightarrow N$:\\\n",
        "> &nbsp;&nbsp;&nbsp;&nbsp;&nbsp;&nbsp;$\\alpha_{s,1} := b_s(x_1) \\cdot \\pi_s$ \n",
        "> \n",
        "> for $t = 2 \\rightarrow T$:\\\n",
        "> &nbsp;&nbsp;&nbsp;&nbsp;&nbsp;&nbsp;for $s = 1 \\rightarrow N$:\\\n",
        "> &nbsp;&nbsp;&nbsp;&nbsp;&nbsp;&nbsp;&nbsp;&nbsp;&nbsp;&nbsp;&nbsp;&nbsp;\n",
        "> $\\alpha_{s,t} := b_s(x_t) \\cdot \\underset{s'}{\\sum} A_{s, s'} \\cdot \\alpha_{s',t-1} $\n",
        "> \n",
        "> $p(\\mathbf{x}) := \\underset{s}{\\sum} \\alpha_{s,T}$\\\n",
        "> return $p(\\mathbf{x})$\n",
        "________\n"
      ]
    },
    {
      "cell_type": "markdown",
      "metadata": {
        "id": "bAdpwRiMn8Vn"
      },
      "source": [
        "The forward algorithm is much faster than enumerating all $N^T$ possible state sequences: it requires only $O(N^2T)$ operations to run, since each step is mostly multiplying the vector of forward variables by the transition matrix. (And very often we can reduce that complexity even further, if the transition matrix is sparse.)\n",
        "\n",
        "There is one practical problem with the forward algorithm as presented above: it is prone to underflow due to multiplying a long chain of small numbers, since probabilities are always between 0 and 1. Instead, let's do everything in the log domain. In the log domain, a multiplication becomes a sum, and a sum becomes a [logsumexp](https://lorenlugosch.github.io/posts/2020/06/logsumexp/).  "
      ]
    },
    {
      "cell_type": "markdown",
      "metadata": {
        "id": "FZ8VsLFxA3iT"
      },
      "source": [
        "________\n",
        "\n",
        "<u><b>The Forward Algorithm (Log Domain)</b></u>\n",
        "\n",
        "> for $s=1 \\rightarrow N$:\\\n",
        "> &nbsp;&nbsp;&nbsp;&nbsp;&nbsp;&nbsp;$\\text{log }\\alpha_{s,1} := \\text{log }b_s(x_1) + \\text{log }\\pi_s$ \n",
        "> \n",
        "> for $t = 2 \\rightarrow T$:\\\n",
        "> &nbsp;&nbsp;&nbsp;&nbsp;&nbsp;&nbsp;for $s = 1 \\rightarrow N$:\\\n",
        "> &nbsp;&nbsp;&nbsp;&nbsp;&nbsp;&nbsp;&nbsp;&nbsp;&nbsp;&nbsp;&nbsp;&nbsp;\n",
        "> $\\text{log }\\alpha_{s,t} := \\text{log }b_s(x_t) +  \\underset{s'}{\\text{logsumexp}} \\left( \\text{log }A_{s, s'} + \\text{log }\\alpha_{s',t-1} \\right)$\n",
        "> \n",
        "> $\\text{log }p(\\mathbf{x}) := \\underset{s}{\\text{logsumexp}} \\left( \\text{log }\\alpha_{s,T} \\right)$\\\n",
        "> return $\\text{log }p(\\mathbf{x})$\n",
        "________"
      ]
    },
    {
      "cell_type": "markdown",
      "metadata": {
        "id": "g55ik6ZCEiJU"
      },
      "source": [
        "Now that we have a numerically stable version of the forward algorithm, let's implement it in PyTorch. "
      ]
    },
    {
      "cell_type": "code",
      "metadata": {
        "id": "3CMdK1EfE1SJ"
      },
      "source": [
        "def HMM_forward(self, x, T):\n",
        "  \"\"\"\n",
        "  x : IntTensor of shape (batch size, T_max)\n",
        "  T : IntTensor of shape (batch size)\n",
        "\n",
        "  Compute log p(x) for each example in the batch.\n",
        "  T = length of each example\n",
        "  \"\"\"\n",
        "  if self.is_cuda:\n",
        "  \tx = x.cuda()\n",
        "  \tT = T.cuda()\n",
        "\n",
        "  batch_size = x.shape[0]; T_max = x.shape[1]\n",
        "  log_state_priors = torch.nn.functional.log_softmax(self.unnormalized_state_priors, dim=0)\n",
        "  log_alpha = torch.zeros(batch_size, T_max, self.N)\n",
        "  if self.is_cuda: log_alpha = log_alpha.cuda()\n",
        "\n",
        "  log_alpha[:, 0, :] = self.emission_model(x[:,0]) + log_state_priors\n",
        "  for t in range(1, T_max):\n",
        "    log_alpha[:, t, :] = self.emission_model(x[:,t]) + self.transition_model(log_alpha[:, t-1, :])\n",
        "\n",
        "  # Select the sum for the final timestep (each x may have different length).\n",
        "  log_sums = log_alpha.logsumexp(dim=2)\n",
        "  log_probs = torch.gather(log_sums, 1, T.view(-1,1) - 1)\n",
        "  return log_probs\n",
        "\n",
        "def emission_model_forward(self, x_t):\n",
        "  log_emission_matrix = torch.nn.functional.log_softmax(self.unnormalized_emission_matrix, dim=1)\n",
        "  out = log_emission_matrix[:, x_t].transpose(0,1)\n",
        "  return out\n",
        "\n",
        "def transition_model_forward(self, log_alpha):\n",
        "  \"\"\"\n",
        "  log_alpha : Tensor of shape (batch size, N)\n",
        "  Multiply previous timestep's alphas by transition matrix (in log domain)\n",
        "  \"\"\"\n",
        "  log_transition_matrix = torch.nn.functional.log_softmax(self.unnormalized_transition_matrix, dim=0)\n",
        "\n",
        "  # Matrix multiplication in the log domain\n",
        "  out = log_domain_matmul(log_transition_matrix, log_alpha.transpose(0,1)).transpose(0,1)\n",
        "  return out\n",
        "\n",
        "def log_domain_matmul(log_A, log_B):\n",
        "\t\"\"\"\n",
        "\tlog_A : m x n\n",
        "\tlog_B : n x p\n",
        "\toutput : m x p matrix\n",
        "\n",
        "\tNormally, a matrix multiplication\n",
        "\tcomputes out_{i,j} = sum_k A_{i,k} x B_{k,j}\n",
        "\n",
        "\tA log domain matrix multiplication\n",
        "\tcomputes out_{i,j} = logsumexp_k log_A_{i,k} + log_B_{k,j}\n",
        "\t\"\"\"\n",
        "\tm = log_A.shape[0]\n",
        "\tn = log_A.shape[1]\n",
        "\tp = log_B.shape[1]\n",
        "\n",
        "\tlog_A_expanded = torch.stack([log_A] * p, dim=2)\n",
        "\tlog_B_expanded = torch.stack([log_B] * m, dim=0)\n",
        "\n",
        "\telementwise_sum = log_A_expanded + log_B_expanded\n",
        "\tout = torch.logsumexp(elementwise_sum, dim=1)\n",
        "\n",
        "\treturn out\n",
        "\n",
        "TransitionModel.forward = transition_model_forward\n",
        "EmissionModel.forward = emission_model_forward\n",
        "HMM.forward = HMM_forward"
      ],
      "execution_count": null,
      "outputs": []
    },
    {
      "cell_type": "markdown",
      "metadata": {
        "id": "y-fNnZfqGb1m"
      },
      "source": [
        "Try running the forward algorithm on our vowels/consonants model from before:"
      ]
    },
    {
      "cell_type": "code",
      "metadata": {
        "id": "8rMAmf-UGhbw",
        "colab": {
          "base_uri": "https://localhost:8080/",
          "height": 66
        },
        "outputId": "d6b82896-6960-4be2-c188-8fd1f1028e2f"
      },
      "source": [
        "x = torch.stack( [torch.tensor(encode(\"cat\"))] )\n",
        "T = torch.tensor([3])\n",
        "print(model.forward(x, T))\n",
        "\n",
        "x = torch.stack( [torch.tensor(encode(\"aba\")), torch.tensor(encode(\"abb\"))] )\n",
        "T = torch.tensor([3,3])\n",
        "print(model.forward(x, T))"
      ],
      "execution_count": null,
      "outputs": [
        {
          "output_type": "stream",
          "text": [
            "tensor([[-11.2727]], grad_fn=<GatherBackward>)\n",
            "tensor([[-8.2581],\n",
            "        [   -inf]], grad_fn=<GatherBackward>)\n"
          ],
          "name": "stdout"
        }
      ]
    },
    {
      "cell_type": "markdown",
      "metadata": {
        "id": "95TB2gvNHuLn"
      },
      "source": [
        "When using the vowel <-> consonant HMM from above, notice that the forward algorithm returns $-\\infty$ for $\\mathbf{x} = \\text{\"abb\"}$. That's because our transition matrix says the probability of vowel -> vowel and consonant -> consonant is 0, so the probability of $\\text{\"abb\"}$ happening is 0, and thus the log probability is $-\\infty$."
      ]
    },
    {
      "cell_type": "markdown",
      "metadata": {
        "id": "qBCrFobsEM8X"
      },
      "source": [
        "#### *Side note: deriving the forward algorithm*\n",
        "\n",
        "If you're interested in understanding how the forward algorithm actually computes $p(\\mathbf{x})$, read this section; if not, skip to the next part on \"Problem 2\" (finding the most likely state sequence)."
      ]
    },
    {
      "cell_type": "markdown",
      "metadata": {
        "id": "CpHWWKcxhjkx"
      },
      "source": [
        "\n",
        "\n",
        "To derive the forward algorithm, start by deriving the forward variable:\n",
        "\n",
        "$$\\begin{align} \n",
        "    \\alpha_{s,t} &= p(x_1, x_2, \\dots, x_t, z_t=s) \\\\\n",
        "     &= p(x_t | x_1, x_2, \\dots, x_{t-1}, z_t = s) \\cdot p(x_1, x_2, \\dots, x_{t-1}, z_t = s)  \\\\ \n",
        "    &= p(x_t | z_t = s) \\cdot p(x_1, x_2, \\dots, x_{t-1}, z_t = s) \\\\\n",
        "    &= p(x_t | z_t = s) \\cdot \\left( \\sum_{s'} p(x_1, x_2, \\dots, x_{t-1}, z_{t-1}=s', z_t = s) \\right)\\\\\n",
        "    &= p(x_t | z_t = s) \\cdot \\left( \\sum_{s'} p(z_t = s | x_1, x_2, \\dots, x_{t-1}, z_{t-1}=s') \\cdot p(x_1, x_2, \\dots, x_{t-1}, z_{t-1}=s') \\right)\\\\\n",
        "    &= \\underbrace{p(x_t | z_t = s)}_{\\text{emission model}} \\cdot \\left( \\sum_{s'} \\underbrace{p(z_t = s | z_{t-1}=s')}_{\\text{transition model}} \\cdot \\underbrace{p(x_1, x_2, \\dots, x_{t-1}, z_{t-1}=s')}_{\\text{forward variable for previous timestep}} \\right)\\\\\n",
        "    &= b_s(x_t) \\cdot \\left( \\sum_{s'} A_{s, s'} \\cdot \\alpha_{s',t-1} \\right)\n",
        "    \\end{align}$$\n",
        "\n",
        "I'll explain how to get to each line of this equation from the previous line. \n",
        "\n",
        "Line 1 is the definition of the forward variable $\\alpha_{s,t}$.\n",
        "\n",
        "Line 2 is the chain rule ($p(A,B) = p(A|B) \\cdot p(B)$, where $A$ is $x_t$ and $B$ is all the other variables).\n",
        "\n",
        "In Line 3, we apply Assumption 2: the probability of observation $x_t$ depends only on the current state $z_t$.\n",
        "\n",
        "In Line 4, we marginalize over all the possible states in the previous timestep $t-1$.\n",
        "\n",
        "In Line 5, we apply the chain rule again.\n",
        "\n",
        "In Line 6, we apply Assumption 1: the current state depends only on the previous state.\n",
        "\n",
        "In Line 7, we substitute in the emission probability, the transition probability, and the forward variable for the previous timestep, to get the complete recursion."
      ]
    },
    {
      "cell_type": "markdown",
      "metadata": {
        "id": "kh1ovNjWDbIA"
      },
      "source": [
        "The formula above can be used for $t = 2 \\rightarrow T$. At $t=1$, there is no previous state, so instead of the transition matrix $A$, we use the state priors $\\pi$, which tell us the probability of starting in each state. Thus for $t=1$, the forward variables are computed as follows:\n",
        "\n",
        "$$\\begin{align} \n",
        "\\alpha_{s,1} &= p(x_1, z_1=s) \\\\\n",
        "  &= p(x_1 | z_1 = s) \\cdot p(z_1 = s)  \\\\ \n",
        "&= b_s(x_1) \\cdot \\pi_s\n",
        "\\end{align}$$"
      ]
    },
    {
      "cell_type": "markdown",
      "metadata": {
        "id": "RRzSqkRkEWKX"
      },
      "source": [
        "Finally, to compute $p(\\mathbf{x}) = p(x_1, x_2, \\dots, x_T)$, we marginalize over $\\alpha_{s,T}$, the forward variables computed in the last timestep:\n",
        "\n",
        "$$\\begin{align*} \n",
        "p(\\mathbf{x}) &= \\sum_{s} p(x_1, x_2, \\dots, x_T, z_T = s) \\\\ \n",
        "&= \\sum_{s} \\alpha_{s,T}\n",
        "\\end{align*}$$"
      ]
    },
    {
      "cell_type": "markdown",
      "metadata": {
        "id": "qLBU8Iu7I5Tb"
      },
      "source": [
        "You can get from this formulation to the log domain formulation by taking the log of the forward variable, and using these identities:\n",
        "- $\\text{log }(a \\cdot b) = \\text{log }a + \\text{log }b$\n",
        "- $\\text{log }(a + b) = \\text{log }(e^{\\text{log }a} + e^{\\text{log }b}) = \\text{logsumexp}(\\text{log }a, \\text{log }b)$"
      ]
    },
    {
      "cell_type": "markdown",
      "metadata": {
        "id": "bxivzF8hgpiW"
      },
      "source": [
        "### Problem 2: How do we compute $\\underset{\\mathbf{z}}{\\text{argmax }} p(\\mathbf{z}|\\mathbf{x})$?"
      ]
    },
    {
      "cell_type": "markdown",
      "metadata": {
        "id": "c1Kv2yyiN7SX"
      },
      "source": [
        "Given an observation sequence $\\mathbf{x}$, we may want to find the most likely sequence of states that could have generated $\\mathbf{x}$. (Given the sequence of selfies, we want to infer what cities the friend visited.) In other words, we want $\\underset{\\mathbf{z}}{\\text{argmax }} p(\\mathbf{z}|\\mathbf{x})$.\n",
        "\n",
        "We can use Bayes' rule to rewrite this expression:\n",
        "    $$\\begin{align*} \n",
        "    \\underset{\\mathbf{z}}{\\text{argmax }} p(\\mathbf{z}|\\mathbf{x}) &= \\underset{\\mathbf{z}}{\\text{argmax }} \\frac{p(\\mathbf{x}|\\mathbf{z}) p(\\mathbf{z})}{p(\\mathbf{x})} \\\\ \n",
        "    &= \\underset{\\mathbf{z}}{\\text{argmax }} p(\\mathbf{x}|\\mathbf{z}) p(\\mathbf{z})\n",
        "    \\end{align*}$$\n",
        "\n",
        "Hmm! That last expression, $\\underset{\\mathbf{z}}{\\text{argmax }} p(\\mathbf{x}|\\mathbf{z}) p(\\mathbf{z})$, looks suspiciously similar to the intractable expression we encountered before introducing the forward algorithm, $\\underset{\\mathbf{z}}{\\sum} p(\\mathbf{x}|\\mathbf{z}) p(\\mathbf{z})$.\n",
        "\n",
        "And indeed, just as the intractable *sum* over all $\\mathbf{z}$ can be implemented efficiently using the forward algorithm, so too this intractable *argmax* can be implemented efficiently using a similar divide-and-conquer algorithm: the legendary Viterbi algorithm!"
      ]
    },
    {
      "cell_type": "markdown",
      "metadata": {
        "id": "niKZEX5xWeWR"
      },
      "source": [
        "________\n",
        "\n",
        "<u><b>The Viterbi Algorithm</b></u>\n",
        "\n",
        "> for $s=1 \\rightarrow N$:\\\n",
        "> &nbsp;&nbsp;&nbsp;&nbsp;&nbsp;&nbsp;$\\delta_{s,1} := b_s(x_1) \\cdot \\pi_s$\\\n",
        "> &nbsp;&nbsp;&nbsp;&nbsp;&nbsp;&nbsp;$\\psi_{s,1} := 0$\n",
        ">\n",
        "> for $t = 2 \\rightarrow T$:\\\n",
        "> &nbsp;&nbsp;&nbsp;&nbsp;&nbsp;&nbsp;for $s = 1 \\rightarrow N$:\\\n",
        "> &nbsp;&nbsp;&nbsp;&nbsp;&nbsp;&nbsp;&nbsp;&nbsp;&nbsp;&nbsp;&nbsp;&nbsp;$\\delta_{s,t} := b_s(x_t) \\cdot \\left( \\underset{s'}{\\text{max }} A_{s, s'} \\cdot \\delta_{s',t-1} \\right)$\\\n",
        "&nbsp;&nbsp;&nbsp;&nbsp;&nbsp;&nbsp;&nbsp;&nbsp;&nbsp;&nbsp;&nbsp;&nbsp;$\\psi_{s,t} := \\underset{s'}{\\text{argmax }} A_{s, s'} \\cdot \\delta_{s',t-1}$\n",
        "> \n",
        "> $z_T^* := \\underset{s}{\\text{argmax }} \\delta_{s,T}$\\\n",
        "> for $t = T-1 \\rightarrow 1$:\\\n",
        "&nbsp;&nbsp;&nbsp;&nbsp;&nbsp;&nbsp;$z_{t}^* := \\psi_{z_{t+1}^*,t+1}$\n",
        "> \n",
        "> $\\mathbf{z}^* := \\{z_{1}^*, \\dots, z_{T}^* \\}$\\\n",
        "return $\\mathbf{z}^*$\n",
        "________"
      ]
    },
    {
      "cell_type": "markdown",
      "metadata": {
        "id": "UcHVTCucZV6K"
      },
      "source": [
        "The Viterbi algorithm looks somewhat gnarlier than the forward algorithm, but it is essentially the same algorithm, with two tweaks: 1) instead of taking the sum over previous states, we take the max; and 2) we record the argmax of the previous states in a table, and loop back over this table at the end to get $\\mathbf{z}^*$, the most likely state sequence. (And like the forward algorithm, we should run the Viterbi algorithm in the log domain for better numerical stability.) "
      ]
    },
    {
      "cell_type": "markdown",
      "metadata": {
        "id": "NlN7IY_JZ5A-"
      },
      "source": [
        "Let's add the Viterbi algorithm to our PyTorch model:"
      ]
    },
    {
      "cell_type": "code",
      "metadata": {
        "id": "qeDG8DVmZ-P0"
      },
      "source": [
        "def viterbi(self, x, T):\n",
        "  \"\"\"\n",
        "  x : IntTensor of shape (batch size, T_max)\n",
        "  T : IntTensor of shape (batch size)\n",
        "  Find argmax_z log p(x|z) for each (x) in the batch.\n",
        "  \"\"\"\n",
        "  if self.is_cuda:\n",
        "    x = x.cuda()\n",
        "    T = T.cuda()\n",
        "\n",
        "  batch_size = x.shape[0]; T_max = x.shape[1]\n",
        "  log_state_priors = torch.nn.functional.log_softmax(self.unnormalized_state_priors, dim=0)\n",
        "  log_delta = torch.zeros(batch_size, T_max, self.N).float()\n",
        "  psi = torch.zeros(batch_size, T_max, self.N).long()\n",
        "  if self.is_cuda:\n",
        "    log_delta = log_delta.cuda()\n",
        "    psi = psi.cuda()\n",
        "\n",
        "  log_delta[:, 0, :] = self.emission_model(x[:,0]) + log_state_priors\n",
        "  for t in range(1, T_max):\n",
        "    max_val, argmax_val = self.transition_model.maxmul(log_delta[:, t-1, :])\n",
        "    log_delta[:, t, :] = self.emission_model(x[:,t]) + max_val\n",
        "    psi[:, t, :] = argmax_val\n",
        "\n",
        "  # Get the log probability of the best path\n",
        "  log_max = log_delta.max(dim=2)[0]\n",
        "  best_path_scores = torch.gather(log_max, 1, T.view(-1,1) - 1)\n",
        "\n",
        "  # This next part is a bit tricky to parallelize across the batch,\n",
        "  # so we will do it separately for each example.\n",
        "  z_star = []\n",
        "  for i in range(0, batch_size):\n",
        "    z_star_i = [ log_delta[i, T[i] - 1, :].max(dim=0)[1].item() ]\n",
        "    for t in range(T[i] - 1, 0, -1):\n",
        "      z_t = psi[i, t, z_star_i[0]].item()\n",
        "      z_star_i.insert(0, z_t)\n",
        "\n",
        "    z_star.append(z_star_i)\n",
        "\n",
        "  return z_star, best_path_scores # return both the best path and its log probability\n",
        "\n",
        "def transition_model_maxmul(self, log_alpha):\n",
        "  log_transition_matrix = torch.nn.functional.log_softmax(self.unnormalized_transition_matrix, dim=0)\n",
        "\n",
        "  out1, out2 = maxmul(log_transition_matrix, log_alpha.transpose(0,1))\n",
        "  return out1.transpose(0,1), out2.transpose(0,1)\n",
        "\n",
        "def maxmul(log_A, log_B):\n",
        "\t\"\"\"\n",
        "\tlog_A : m x n\n",
        "\tlog_B : n x p\n",
        "\toutput : m x p matrix\n",
        "\n",
        "\tSimilar to the log domain matrix multiplication,\n",
        "\tthis computes out_{i,j} = max_k log_A_{i,k} + log_B_{k,j}\n",
        "\t\"\"\"\n",
        "\tm = log_A.shape[0]\n",
        "\tn = log_A.shape[1]\n",
        "\tp = log_B.shape[1]\n",
        "\n",
        "\tlog_A_expanded = torch.stack([log_A] * p, dim=2)\n",
        "\tlog_B_expanded = torch.stack([log_B] * m, dim=0)\n",
        "\n",
        "\telementwise_sum = log_A_expanded + log_B_expanded\n",
        "\tout1,out2 = torch.max(elementwise_sum, dim=1)\n",
        "\n",
        "\treturn out1,out2\n",
        "\n",
        "TransitionModel.maxmul = transition_model_maxmul\n",
        "HMM.viterbi = viterbi"
      ],
      "execution_count": null,
      "outputs": []
    },
    {
      "cell_type": "markdown",
      "metadata": {
        "id": "uTGOaeXbaWie"
      },
      "source": [
        "Try running Viterbi on an input sequence, given the vowel/consonant HMM:"
      ]
    },
    {
      "cell_type": "code",
      "metadata": {
        "id": "zeOTbaIMc23d",
        "colab": {
          "base_uri": "https://localhost:8080/",
          "height": 49
        },
        "outputId": "4d66e389-0ce8-4dda-bc24-de1a0690c2cd"
      },
      "source": [
        "x = torch.stack( [torch.tensor(encode(\"aba\")), torch.tensor(encode(\"abb\"))] )\n",
        "T = torch.tensor([3,3])\n",
        "print(model.viterbi(x, T))"
      ],
      "execution_count": null,
      "outputs": [
        {
          "output_type": "stream",
          "text": [
            "([[1, 0, 1], [1, 0, 1]], tensor([[-8.2581],\n",
            "        [   -inf]], grad_fn=<GatherBackward>))\n"
          ],
          "name": "stdout"
        }
      ]
    },
    {
      "cell_type": "markdown",
      "metadata": {
        "id": "fKr8YlafdzBx"
      },
      "source": [
        "For $\\mathbf{x} = \\text{\"aba\"}$, the Viterbi algorithm returns $\\mathbf{z}^* = \\{1,0,1\\}$. This corresponds to \"vowel, consonant, vowel\" according to the way we defined the states above, which is correct for this input sequence. Yay!\n",
        "\n",
        "For $\\mathbf{x} = \\text{\"abb\"}$, the Viterbi algorithm still returns a $\\mathbf{z}^*$, but we know this is gibberish because \"vowel, consonant, consonant\" is impossible under this HMM, and indeed the log probability of this path is $-\\infty$."
      ]
    },
    {
      "cell_type": "markdown",
      "metadata": {
        "id": "nCWw0_WienO_"
      },
      "source": [
        "Let's compare the \"forward score\" (the log probability of all possible paths, returned by the forward algorithm) with the \"Viterbi score\" (the log probability of the maximum likelihood path, returned by the Viterbi algorithm):"
      ]
    },
    {
      "cell_type": "code",
      "metadata": {
        "id": "L9fBOHvdeqWC",
        "colab": {
          "base_uri": "https://localhost:8080/",
          "height": 82
        },
        "outputId": "68dc252a-1343-43b6-ef6a-aa6f3815fc7e"
      },
      "source": [
        "print(model.forward(x, T))\n",
        "print(model.viterbi(x, T)[1])"
      ],
      "execution_count": null,
      "outputs": [
        {
          "output_type": "stream",
          "text": [
            "tensor([[-8.2581],\n",
            "        [   -inf]], grad_fn=<GatherBackward>)\n",
            "tensor([[-8.2581],\n",
            "        [   -inf]], grad_fn=<GatherBackward>)\n"
          ],
          "name": "stdout"
        }
      ]
    },
    {
      "cell_type": "markdown",
      "metadata": {
        "id": "InF6PJVOfHwH"
      },
      "source": [
        "The two scores are the same! That's because in this instance there is only one possible path through the HMM, so the probability of the most likely path is the same as the sum of the probabilities of all possible paths.\n",
        "\n",
        "In general, though, the forward score and Viterbi score will always be somewhat close. This is because of a property of the $\\text{logsumexp}$ function: $\\text{logsumexp}(\\mathbf{x}) \\approx \\max (\\mathbf{x})$. ($\\text{logsumexp}$ is sometimes referred to as the \"smooth maximum\" function.)"
      ]
    },
    {
      "cell_type": "code",
      "metadata": {
        "id": "x__70tB6gnkF",
        "colab": {
          "base_uri": "https://localhost:8080/",
          "height": 49
        },
        "outputId": "bea8fb1a-3f7c-4a0f-abd9-b18e96968083"
      },
      "source": [
        "x = torch.tensor([1., 2., 3.])\n",
        "print(x.max(dim=0)[0])\n",
        "print(x.logsumexp(dim=0))"
      ],
      "execution_count": null,
      "outputs": [
        {
          "output_type": "stream",
          "text": [
            "tensor(3.)\n",
            "tensor(3.4076)\n"
          ],
          "name": "stdout"
        }
      ]
    },
    {
      "cell_type": "markdown",
      "metadata": {
        "id": "SvFtiWhzgy0V"
      },
      "source": [
        "### Problem 3: How do we train the model?\n",
        "\n",
        "\n",
        "\n"
      ]
    },
    {
      "cell_type": "markdown",
      "metadata": {
        "id": "r3JaykRalSBZ"
      },
      "source": [
        "Earlier, we hard-coded an HMM to have certain behavior. What we would like to do instead is have the HMM learn to model the data on its own. And while it is possible to use supervised learning with an HMM (by hard-coding the emission model or the transition model) so that the states have a particular interpretation, the really cool thing about HMMs is that they are naturally unsupervised learners, so they can learn to use their different states to represent different patterns in the data, without the programmer needing to indicate what each state means."
      ]
    },
    {
      "cell_type": "markdown",
      "metadata": {
        "id": "8K471fT4N-PR"
      },
      "source": [
        "Like many machine learning models, an HMM can be trained using maximum likelihood estimation, i.e.:\n",
        "\n",
        "$$\\theta^* = \\underset{\\theta}{\\text{argmin }} -\\sum_{\\mathbf{x}^i}\\text{log }p_{\\theta}(\\mathbf{x}^i)$$\n",
        "\n",
        "where $\\mathbf{x}^1, \\mathbf{x}^2, \\dots$ are training examples. \n",
        "\n",
        "The standard method for doing this is the Expectation-Maximization (EM) algorithm, which for HMMs is also called the \"Baum-Welch\" algorithm. In EM training, we alternate between an \"E-step\", where we estimate the values of the latent variables, and an \"M-step\", where the model parameters are updated given the estimated latent variables. (Think $k$-means, where you guess which cluster each data point belongs to, then reestimate where the clusters are, and repeat.) The EM algorithm has some nice properties: it is guaranteed at each step to decrease the loss function, and the E-step and M-step may have an exact closed form solution, in which case no pesky learning rates are required.\n",
        "\n",
        "But because the HMM forward algorithm is differentiable with respect to all the model parameters, we can also just take advantage of automatic differentiation methods in libraries like PyTorch and try to minimize $-\\text{log }p_{\\theta}(\\mathbf{x})$ directly, by backpropagating through the forward algorithm and running stochastic gradient descent. That means we don't need to write any additional HMM code to implement training: `loss.backward()` is all you need."
      ]
    },
    {
      "cell_type": "markdown",
      "metadata": {
        "id": "aVh0-369qZDC"
      },
      "source": [
        "Here we will implement SGD training for an HMM in PyTorch. First, some helper classes:"
      ]
    },
    {
      "cell_type": "code",
      "metadata": {
        "id": "KqiFobGHwdzc"
      },
      "source": [
        "import torch.utils.data\n",
        "from collections import Counter\n",
        "from sklearn.model_selection import train_test_split\n",
        "\n",
        "class TextDataset(torch.utils.data.Dataset):\n",
        "  def __init__(self, lines):\n",
        "    self.lines = lines # list of strings\n",
        "    collate = Collate() # function for generating a minibatch from strings\n",
        "    self.loader = torch.utils.data.DataLoader(self, batch_size=1024, num_workers=1, shuffle=True, collate_fn=collate)\n",
        "\n",
        "  def __len__(self):\n",
        "    return len(self.lines)\n",
        "\n",
        "  def __getitem__(self, idx):\n",
        "    line = self.lines[idx].lstrip(\" \").rstrip(\"\\n\").rstrip(\" \").rstrip(\"\\n\")\n",
        "    return line\n",
        "\n",
        "class Collate:\n",
        "  def __init__(self):\n",
        "    pass\n",
        "\n",
        "  def __call__(self, batch):\n",
        "    \"\"\"\n",
        "    Returns a minibatch of strings, padded to have the same length.\n",
        "    \"\"\"\n",
        "    x = []\n",
        "    batch_size = len(batch)\n",
        "    for index in range(batch_size):\n",
        "      x_ = batch[index]\n",
        "\n",
        "      # convert letters to integers\n",
        "      x.append(encode(x_))\n",
        "\n",
        "    # pad all sequences with 0 to have same length\n",
        "    x_lengths = [len(x_) for x_ in x]\n",
        "    T = max(x_lengths)\n",
        "    for index in range(batch_size):\n",
        "      x[index] += [0] * (T - len(x[index]))\n",
        "      x[index] = torch.tensor(x[index])\n",
        "\n",
        "    # stack into single tensor\n",
        "    x = torch.stack(x)\n",
        "    x_lengths = torch.tensor(x_lengths)\n",
        "    return (x,x_lengths)"
      ],
      "execution_count": null,
      "outputs": []
    },
    {
      "cell_type": "markdown",
      "metadata": {
        "id": "YpDpwnPnAEA9"
      },
      "source": [
        "Let's load some training/testing data. By default, this will use the unix \"words\" file, but you could also use your own text file."
      ]
    },
    {
      "cell_type": "code",
      "metadata": {
        "id": "52NqFHg8ANsB",
        "colab": {
          "base_uri": "https://localhost:8080/",
          "height": 198
        },
        "outputId": "7bc1a7ee-ec5c-4fc7-a777-ea2268f169bb"
      },
      "source": [
        "!wget https://raw.githubusercontent.com/lorenlugosch/pytorch_HMM/master/data/train/training.txt\n",
        "\n",
        "filename = \"training.txt\"\n",
        "\n",
        "with open(filename, \"r\") as f:\n",
        "  lines = f.readlines() # each line of lines will have one word\n",
        "\n",
        "alphabet = list(Counter((\"\".join(lines))).keys())\n",
        "train_lines, valid_lines = train_test_split(lines, test_size=0.1, random_state=42)\n",
        "train_dataset = TextDataset(train_lines)\n",
        "valid_dataset = TextDataset(valid_lines)\n",
        "\n",
        "M = len(alphabet)"
      ],
      "execution_count": null,
      "outputs": [
        {
          "output_type": "stream",
          "text": [
            "--2020-08-18 13:18:59--  https://raw.githubusercontent.com/lorenlugosch/pytorch_HMM/master/data/train/training.txt\n",
            "Resolving raw.githubusercontent.com (raw.githubusercontent.com)... 151.101.0.133, 151.101.64.133, 151.101.128.133, ...\n",
            "Connecting to raw.githubusercontent.com (raw.githubusercontent.com)|151.101.0.133|:443... connected.\n",
            "HTTP request sent, awaiting response... 200 OK\n",
            "Length: 2493109 (2.4M) [text/plain]\n",
            "Saving to: ‘training.txt’\n",
            "\n",
            "\rtraining.txt          0%[                    ]       0  --.-KB/s               \rtraining.txt        100%[===================>]   2.38M  --.-KB/s    in 0.04s   \n",
            "\n",
            "2020-08-18 13:18:59 (59.3 MB/s) - ‘training.txt’ saved [2493109/2493109]\n",
            "\n"
          ],
          "name": "stdout"
        }
      ]
    },
    {
      "cell_type": "markdown",
      "metadata": {
        "id": "H0AqmyrK7IUn"
      },
      "source": [
        "We will use a Trainer class for training and testing the model:\n",
        "\n"
      ]
    },
    {
      "cell_type": "code",
      "metadata": {
        "id": "iypy_neX9cpq"
      },
      "source": [
        "from tqdm import tqdm # for displaying progress bar\n",
        "\n",
        "class Trainer:\n",
        "  def __init__(self, model, lr):\n",
        "    self.model = model\n",
        "    self.lr = lr\n",
        "    self.optimizer = torch.optim.Adam(model.parameters(), lr=self.lr, weight_decay=0.00001)\n",
        "  \n",
        "  def train(self, dataset):\n",
        "    train_loss = 0\n",
        "    num_samples = 0\n",
        "    self.model.train()\n",
        "    print_interval = 50\n",
        "    for idx, batch in enumerate(tqdm(dataset.loader)):\n",
        "      x,T = batch\n",
        "      batch_size = len(x)\n",
        "      num_samples += batch_size\n",
        "      log_probs = self.model(x,T)\n",
        "      loss = -log_probs.mean()\n",
        "      self.optimizer.zero_grad()\n",
        "      loss.backward()\n",
        "      self.optimizer.step()\n",
        "      train_loss += loss.cpu().data.numpy().item() * batch_size\n",
        "      if idx % print_interval == 0:\n",
        "        print(\"loss:\", loss.item())\n",
        "        for _ in range(5):\n",
        "          sampled_x, sampled_z = self.model.sample()\n",
        "          print(decode(sampled_x))\n",
        "          print(sampled_z)\n",
        "    train_loss /= num_samples\n",
        "    return train_loss\n",
        "\n",
        "  def test(self, dataset):\n",
        "    test_loss = 0\n",
        "    num_samples = 0\n",
        "    self.model.eval()\n",
        "    print_interval = 50\n",
        "    for idx, batch in enumerate(dataset.loader):\n",
        "      x,T = batch\n",
        "      batch_size = len(x)\n",
        "      num_samples += batch_size\n",
        "      log_probs = self.model(x,T)\n",
        "      loss = -log_probs.mean()\n",
        "      test_loss += loss.cpu().data.numpy().item() * batch_size\n",
        "      if idx % print_interval == 0:\n",
        "        print(\"loss:\", loss.item())\n",
        "        sampled_x, sampled_z = self.model.sample()\n",
        "        print(decode(sampled_x))\n",
        "        print(sampled_z)\n",
        "    test_loss /= num_samples\n",
        "    return test_loss"
      ],
      "execution_count": null,
      "outputs": []
    },
    {
      "cell_type": "markdown",
      "metadata": {
        "id": "mUR8qbHm9dMg"
      },
      "source": [
        "Finally, initialize the model and run the main training loop. Every 50 batches, the code will produce a few samples from the model. Over time, these samples should look more and more realistic."
      ]
    },
    {
      "cell_type": "code",
      "metadata": {
        "id": "1-NGIK1Q9g2C",
        "colab": {
          "base_uri": "https://localhost:8080/",
          "height": 1000
        },
        "outputId": "64cbbea7-e5e3-4ada-a642-10d304af4bb6"
      },
      "source": [
        "# Initialize model\n",
        "model = HMM(N=64, M=M)\n",
        "\n",
        "# Train the model\n",
        "num_epochs = 10\n",
        "trainer = Trainer(model, lr=0.01)\n",
        "\n",
        "for epoch in range(num_epochs):\n",
        "        print(\"========= Epoch %d of %d =========\" % (epoch+1, num_epochs))\n",
        "        train_loss = trainer.train(train_dataset)\n",
        "        valid_loss = trainer.test(valid_dataset)\n",
        "\n",
        "        print(\"========= Results: epoch %d of %d =========\" % (epoch+1, num_epochs))\n",
        "        print(\"train loss: %.2f| valid loss: %.2f\\n\" % (train_loss, valid_loss) )"
      ],
      "execution_count": null,
      "outputs": [
        {
          "output_type": "stream",
          "text": [
            "\r  0%|          | 0/208 [00:00<?, ?it/s]"
          ],
          "name": "stderr"
        },
        {
          "output_type": "stream",
          "text": [
            "========= Epoch 1 of 10 =========\n"
          ],
          "name": "stdout"
        },
        {
          "output_type": "stream",
          "text": [
            "\r  0%|          | 1/208 [00:02<08:49,  2.56s/it]"
          ],
          "name": "stderr"
        },
        {
          "output_type": "stream",
          "text": [
            "loss: 37.87752151489258\n",
            "\n",
            "UDjt\n",
            "c--X\n",
            "[3, 32, 26, 25, 13, 12, 33, 9, 5, 54]\n",
            "-CVQsAaELR\n",
            "[24, 59, 57, 54, 2, 9, 5, 52, 3, 33]\n",
            "Ep-rosSwve\n",
            "[36, 38, 22, 29, 27, 59, 19, 62, 31, 47]\n",
            "oXMTvKLfWq\n",
            "[33, 12, 29, 53, 53, 2, 5, 16, 17, 9]\n",
            "sed\n",
            "gnJdwa\n",
            "[35, 5, 33, 53, 8, 15, 12, 33, 46, 47]\n"
          ],
          "name": "stdout"
        },
        {
          "output_type": "stream",
          "text": [
            " 25%|██▍       | 51/208 [02:00<05:52,  2.25s/it]"
          ],
          "name": "stderr"
        },
        {
          "output_type": "stream",
          "text": [
            "loss: 33.14439010620117\n",
            "VyabfnCgHn\n",
            "[23, 33, 31, 12, 30, 32, 57, 25, 40, 7]\n",
            "XHWnvgrsy-\n",
            "[26, 37, 35, 5, 38, 33, 54, 58, 22, 50]\n",
            "rSacuCH-Mt\n",
            "[62, 32, 61, 13, 30, 60, 47, 11, 56, 13]\n",
            "cUveJimwtU\n",
            "[23, 20, 31, 39, 16, 16, 54, 18, 14, 13]\n",
            "lhrrwurobO\n",
            "[61, 15, 28, 12, 10, 36, 38, 12, 1, 8]\n"
          ],
          "name": "stdout"
        },
        {
          "output_type": "stream",
          "text": [
            " 49%|████▊     | 101/208 [03:58<04:18,  2.42s/it]"
          ],
          "name": "stderr"
        },
        {
          "output_type": "stream",
          "text": [
            "loss: 30.336483001708984\n",
            "Semc-oPWhY\n",
            "[46, 16, 40, 57, 24, 6, 47, 25, 9, 11]\n",
            "dsnnpUg\n",
            "kr\n",
            "[42, 2, 22, 47, 40, 16, 6, 60, 25, 19]\n",
            "sUixalayhf\n",
            "[32, 6, 30, 20, 61, 32, 6, 30, 22, 32]\n",
            "lQdraceret\n",
            "[60, 25, 47, 29, 27, 12, 16, 29, 32, 6]\n",
            "peaingritb\n",
            "[41, 30, 29, 19, 21, 32, 29, 49, 12, 18]\n"
          ],
          "name": "stdout"
        },
        {
          "output_type": "stream",
          "text": [
            " 73%|███████▎  | 151/208 [05:57<02:16,  2.40s/it]"
          ],
          "name": "stderr"
        },
        {
          "output_type": "stream",
          "text": [
            "loss: 28.422269821166992\n",
            "lylgvososa\n",
            "[40, 28, 12, 33, 40, 16, 23, 19, 40, 40]\n",
            "arlnGydUve\n",
            "[35, 29, 6, 13, 22, 60, 47, 13, 57, 43]\n",
            "cenriiimFG\n",
            "[23, 22, 47, 29, 28, 20, 21, 40, 16, 25]\n",
            "plo-irmllr\n",
            "[40, 46, 49, 30, 21, 35, 37, 25, 40, 29]\n",
            "uGprpyrosh\n",
            "[3, 39, 40, 29, 40, 28, 29, 27, 47, 8]\n"
          ],
          "name": "stdout"
        },
        {
          "output_type": "stream",
          "text": [
            " 97%|█████████▋| 201/208 [07:57<00:16,  2.41s/it]"
          ],
          "name": "stderr"
        },
        {
          "output_type": "stream",
          "text": [
            "loss: 26.920387268066406\n",
            "sdreeropbo\n",
            "[7, 13, 16, 25, 27, 12, 33, 40, 4, 49]\n",
            "adtorytalB\n",
            "[16, 15, 30, 33, 25, 28, 12, 33, 25, 28]\n",
            "foblndldiv\n",
            "[10, 49, 1, 27, 57, 13, 19, 57, 28, 18]\n",
            "hamavecGQn\n",
            "[46, 33, 25, 19, 31, 19, 23, 46, 39, 47]\n",
            "urasrQstor\n",
            "[61, 29, 33, 12, 29, 19, 7, 12, 33, 12]\n"
          ],
          "name": "stdout"
        },
        {
          "output_type": "stream",
          "text": [
            "100%|██████████| 208/208 [08:11<00:00,  2.36s/it]\n"
          ],
          "name": "stderr"
        },
        {
          "output_type": "stream",
          "text": [
            "loss: 26.472938537597656\n",
            "aenocylaFe\n",
            "[20, 16, 15, 21, 23, 33, 25, 28, 32, 19]\n"
          ],
          "name": "stdout"
        },
        {
          "output_type": "stream",
          "text": [
            "\r  0%|          | 0/208 [00:00<?, ?it/s]"
          ],
          "name": "stderr"
        },
        {
          "output_type": "stream",
          "text": [
            "========= Results: epoch 1 of 10 =========\n",
            "train loss: 30.84| valid loss: 26.62\n",
            "\n",
            "========= Epoch 2 of 10 =========\n"
          ],
          "name": "stdout"
        },
        {
          "output_type": "stream",
          "text": [
            "\r  0%|          | 1/208 [00:03<10:28,  3.04s/it]"
          ],
          "name": "stderr"
        },
        {
          "output_type": "stream",
          "text": [
            "loss: 26.865171432495117\n",
            "-niofeynep\n",
            "[61, 57, 30, 33, 25, 16, 28, 15, 16, 40]\n",
            "gharimUtEs\n",
            "[35, 46, 27, 15, 30, 59, 6, 25, 62, 58]\n",
            "imtcasnone\n",
            "[20, 16, 25, 21, 0, 2, 59, 33, 12, 16]\n",
            "pRsncrdusi\n",
            "[40, 19, 57, 23, 16, 15, 13, 3, 7, 27]\n",
            "sungqseeoe\n",
            "[7, 3, 47, 32, 27, 0, 40, 16, 19, 47]\n"
          ],
          "name": "stdout"
        },
        {
          "output_type": "stream",
          "text": [
            " 25%|██▍       | 51/208 [02:06<06:22,  2.44s/it]"
          ],
          "name": "stderr"
        },
        {
          "output_type": "stream",
          "text": [
            "loss: 25.504512786865234\n",
            "ftipzaledd\n",
            "[61, 15, 30, 15, 12, 33, 25, 19, 15, 12]\n",
            "ttioreaerZ\n",
            "[40, 40, 29, 33, 29, 19, 13, 30, 23, 39]\n",
            "tropatylnr\n",
            "[43, 29, 33, 1, 27, 12, 33, 25, 21, 29]\n",
            "unnrgragor\n",
            "[61, 47, 27, 47, 32, 29, 33, 32, 33, 25]\n",
            "nodejiomin\n",
            "[7, 21, 32, 57, 49, 5, 33, 25, 21, 57]\n"
          ],
          "name": "stdout"
        },
        {
          "output_type": "stream",
          "text": [
            " 49%|████▊     | 101/208 [04:10<04:18,  2.42s/it]"
          ],
          "name": "stderr"
        },
        {
          "output_type": "stream",
          "text": [
            "loss: 25.362279891967773\n",
            "dherEisofq\n",
            "[23, 46, 16, 15, 30, 33, 12, 16, 15, 12]\n",
            "passutonat\n",
            "[40, 16, 0, 7, 3, 25, 27, 57, 33, 25]\n",
            "pfoymRenen\n",
            "[61, 23, 49, 48, 54, 34, 19, 12, 16, 47]\n",
            "gledolinui\n",
            "[44, 29, 27, 12, 33, 25, 27, 47, 7, 30]\n",
            "marisphula\n",
            "[44, 6, 29, 27, 0, 40, 46, 39, 29, 27]\n"
          ],
          "name": "stdout"
        },
        {
          "output_type": "stream",
          "text": [
            " 73%|███████▎  | 151/208 [06:11<02:15,  2.38s/it]"
          ],
          "name": "stderr"
        },
        {
          "output_type": "stream",
          "text": [
            "loss: 24.80434226989746\n",
            "astekmitet\n",
            "[19, 29, 20, 16, 25, 25, 27, 12, 16, 13]\n",
            "Parguitere\n",
            "[44, 6, 47, 32, 3, 30, 12, 16, 15, 30]\n",
            "pratpasxan\n",
            "[40, 29, 27, 12, 11, 39, 15, 30, 33, 57]\n",
            "ultfylodep\n",
            "[61, 47, 12, 24, 39, 25, 16, 13, 16, 15]\n",
            "derfrxdrat\n",
            "[44, 19, 15, 12, 29, 16, 13, 29, 33, 23]\n"
          ],
          "name": "stdout"
        },
        {
          "output_type": "stream",
          "text": [
            " 97%|█████████▋| 201/208 [08:12<00:17,  2.51s/it]"
          ],
          "name": "stderr"
        },
        {
          "output_type": "stream",
          "text": [
            "loss: 24.64764404296875\n",
            "anstiteabp\n",
            "[61, 47, 0, 20, 27, 12, 16, 33, 25, 40]\n",
            "nmesnedict\n",
            "[54, 1, 16, 15, 12, 16, 13, 30, 23, 43]\n",
            "uetiozedbr\n",
            "[61, 47, 13, 30, 49, 12, 16, 13, 41, 29]\n",
            "gissyleniY\n",
            "[32, 27, 0, 23, 39, 25, 27, 12, 27, 47]\n",
            "shasesneou\n",
            "[0, 46, 33, 40, 16, 15, 12, 16, 43, 3]\n"
          ],
          "name": "stdout"
        },
        {
          "output_type": "stream",
          "text": [
            "100%|██████████| 208/208 [08:28<00:00,  2.45s/it]\n"
          ],
          "name": "stderr"
        },
        {
          "output_type": "stream",
          "text": [
            "loss: 24.70099639892578\n",
            "eniscullyn\n",
            "[27, 12, 30, 0, 23, 39, 25, 25, 28, 47]\n"
          ],
          "name": "stdout"
        },
        {
          "output_type": "stream",
          "text": [
            "\r  0%|          | 0/208 [00:00<?, ?it/s]"
          ],
          "name": "stderr"
        },
        {
          "output_type": "stream",
          "text": [
            "========= Results: epoch 2 of 10 =========\n",
            "train loss: 25.26| valid loss: 24.59\n",
            "\n",
            "========= Epoch 3 of 10 =========\n"
          ],
          "name": "stdout"
        },
        {
          "output_type": "stream",
          "text": [
            "\r  0%|          | 1/208 [00:02<09:31,  2.76s/it]"
          ],
          "name": "stderr"
        },
        {
          "output_type": "stream",
          "text": [
            "loss: 24.833276748657227\n",
            "ericraleti\n",
            "[16, 29, 27, 23, 29, 33, 25, 27, 12, 30]\n",
            "tlrespkesi\n",
            "[23, 46, 29, 16, 15, 40, 46, 16, 15, 20]\n",
            "gpialieedi\n",
            "[10, 56, 30, 33, 25, 27, 25, 16, 15, 30]\n",
            "eustotansu\n",
            "[50, 3, 0, 20, 27, 12, 27, 47, 7, 3]\n",
            "otivepSuon\n",
            "[33, 12, 30, 12, 16, 48, 54, 3, 16, 15]\n"
          ],
          "name": "stdout"
        },
        {
          "output_type": "stream",
          "text": [
            " 25%|██▍       | 51/208 [02:03<06:13,  2.38s/it]"
          ],
          "name": "stderr"
        },
        {
          "output_type": "stream",
          "text": [
            "loss: 24.775157928466797\n",
            "alesstuthi\n",
            "[33, 25, 16, 15, 7, 43, 3, 23, 46, 30]\n",
            "ecalyprema\n",
            "[19, 23, 39, 25, 28, 40, 29, 16, 25, 27]\n",
            "opamestere\n",
            "[33, 40, 33, 25, 16, 15, 12, 16, 29, 34]\n",
            "hrechtueru\n",
            "[46, 29, 27, 23, 46, 24, 3, 16, 29, 3]\n",
            "susmontuhs\n",
            "[7, 3, 0, 20, 33, 47, 13, 33, 15, 7]\n"
          ],
          "name": "stdout"
        },
        {
          "output_type": "stream",
          "text": [
            " 49%|████▊     | 101/208 [04:00<04:00,  2.25s/it]"
          ],
          "name": "stderr"
        },
        {
          "output_type": "stream",
          "text": [
            "loss: 24.226726531982422\n",
            "ciboeshchr\n",
            "[12, 27, 1, 43, 3, 0, 46, 23, 46, 29]\n",
            "alasspitma\n",
            "[6, 25, 27, 0, 20, 29, 27, 25, 25, 27]\n",
            "Jicoblelom\n",
            "[54, 27, 23, 33, 17, 58, 16, 25, 33, 25]\n",
            "poveloKobp\n",
            "[40, 33, 12, 16, 25, 21, 62, 43, 4, 40]\n",
            "dronpranco\n",
            "[13, 29, 33, 47, 40, 29, 33, 15, 23, 33]\n"
          ],
          "name": "stdout"
        },
        {
          "output_type": "stream",
          "text": [
            " 73%|███████▎  | 151/208 [05:58<02:09,  2.27s/it]"
          ],
          "name": "stderr"
        },
        {
          "output_type": "stream",
          "text": [
            "loss: 24.34049415588379\n",
            "unatizader\n",
            "[61, 57, 33, 12, 30, 12, 16, 13, 16, 15]\n",
            "incrarplap\n",
            "[61, 47, 23, 29, 33, 15, 40, 29, 33, 40]\n",
            "unglmterco\n",
            "[61, 47, 12, 16, 15, 12, 16, 15, 23, 39]\n",
            "arzessingn\n",
            "[61, 47, 12, 30, 0, 12, 27, 47, 32, 57]\n",
            "alyttriter\n",
            "[33, 25, 28, 23, 46, 29, 21, 12, 16, 15]\n"
          ],
          "name": "stdout"
        },
        {
          "output_type": "stream",
          "text": [
            " 97%|█████████▋| 201/208 [07:57<00:17,  2.45s/it]"
          ],
          "name": "stderr"
        },
        {
          "output_type": "stream",
          "text": [
            "loss: 24.33629035949707\n",
            "uneriallip\n",
            "[61, 57, 16, 15, 30, 6, 25, 25, 21, 40]\n",
            "vombludron\n",
            "[44, 19, 1, 17, 58, 16, 13, 29, 33, 47]\n",
            "alinsanneK\n",
            "[6, 25, 27, 47, 7, 19, 47, 12, 16, 60]\n",
            "onicrephbe\n",
            "[16, 15, 30, 23, 29, 19, 40, 46, 14, 19]\n",
            "secphastum\n",
            "[7, 16, 15, 40, 46, 33, 15, 23, 39, 25]\n"
          ],
          "name": "stdout"
        },
        {
          "output_type": "stream",
          "text": [
            "100%|██████████| 208/208 [08:12<00:00,  2.37s/it]\n"
          ],
          "name": "stderr"
        },
        {
          "output_type": "stream",
          "text": [
            "loss: 24.137454986572266\n",
            "cocabierpk\n",
            "[23, 19, 23, 33, 17, 58, 16, 15, 23, 46]\n"
          ],
          "name": "stdout"
        },
        {
          "output_type": "stream",
          "text": [
            "\r  0%|          | 0/208 [00:00<?, ?it/s]"
          ],
          "name": "stderr"
        },
        {
          "output_type": "stream",
          "text": [
            "========= Results: epoch 3 of 10 =========\n",
            "train loss: 24.28| valid loss: 24.10\n",
            "\n",
            "========= Epoch 4 of 10 =========\n"
          ],
          "name": "stdout"
        },
        {
          "output_type": "stream",
          "text": [
            "\r  0%|          | 1/208 [00:02<09:33,  2.77s/it]"
          ],
          "name": "stderr"
        },
        {
          "output_type": "stream",
          "text": [
            "loss: 23.947551727294922\n",
            "Mocalzedyl\n",
            "[44, 19, 23, 39, 25, 12, 16, 15, 39, 25]\n",
            "sexiMricar\n",
            "[7, 16, 15, 30, 6, 15, 27, 23, 33, 47]\n",
            "iltobleian\n",
            "[61, 47, 23, 33, 17, 58, 16, 29, 33, 47]\n",
            "phbicammul\n",
            "[23, 46, 5, 30, 23, 33, 25, 12, 39, 25]\n",
            "iSsytetkrb\n",
            "[44, 19, 23, 28, 13, 16, 15, 30, 8, 17]\n"
          ],
          "name": "stdout"
        },
        {
          "output_type": "stream",
          "text": [
            " 25%|██▍       | 51/208 [02:00<06:11,  2.36s/it]"
          ],
          "name": "stderr"
        },
        {
          "output_type": "stream",
          "text": [
            "loss: 24.043060302734375\n",
            "chocilened\n",
            "[23, 46, 33, 23, 39, 25, 27, 12, 16, 15]\n",
            "unnaunosio\n",
            "[61, 47, 12, 16, 6, 57, 33, 15, 20, 33]\n",
            "prepaindhl\n",
            "[40, 29, 19, 40, 33, 27, 47, 40, 46, 29]\n",
            "innashcaam\n",
            "[61, 47, 12, 27, 0, 22, 23, 33, 27, 12]\n",
            "perveabily\n",
            "[40, 16, 15, 12, 16, 6, 17, 27, 25, 28]\n"
          ],
          "name": "stdout"
        },
        {
          "output_type": "stream",
          "text": [
            " 49%|████▊     | 101/208 [03:57<04:12,  2.36s/it]"
          ],
          "name": "stderr"
        },
        {
          "output_type": "stream",
          "text": [
            "loss: 24.10904312133789\n",
            "annitinact\n",
            "[61, 47, 12, 30, 12, 27, 57, 27, 0, 20]\n",
            "tanistlagi\n",
            "[44, 33, 15, 30, 0, 20, 58, 27, 32, 27]\n",
            "Pilcatscin\n",
            "[44, 27, 47, 23, 33, 12, 30, 12, 30, 12]\n",
            "imitanesam\n",
            "[61, 1, 27, 12, 33, 12, 16, 15, 33, 12]\n",
            "tooganinex\n",
            "[23, 19, 21, 32, 27, 57, 27, 57, 16, 15]\n"
          ],
          "name": "stdout"
        },
        {
          "output_type": "stream",
          "text": [
            " 73%|███████▎  | 151/208 [05:56<02:18,  2.43s/it]"
          ],
          "name": "stderr"
        },
        {
          "output_type": "stream",
          "text": [
            "loss: 23.986278533935547\n",
            "stkysteriv\n",
            "[0, 23, 46, 28, 0, 20, 16, 15, 28, 2]\n",
            "aborabieJy\n",
            "[33, 12, 16, 29, 33, 17, 30, 19, 23, 28]\n",
            "ansmasitik\n",
            "[61, 47, 0, 20, 33, 15, 30, 12, 30, 12]\n",
            "tanaprecyc\n",
            "[23, 33, 15, 33, 40, 29, 19, 23, 28, 23]\n",
            "gussincyrt\n",
            "[50, 3, 0, 20, 27, 47, 23, 19, 15, 12]\n"
          ],
          "name": "stdout"
        },
        {
          "output_type": "stream",
          "text": [
            " 97%|█████████▋| 201/208 [07:56<00:16,  2.32s/it]"
          ],
          "name": "stderr"
        },
        {
          "output_type": "stream",
          "text": [
            "loss: 23.983400344848633\n",
            "statpkarla\n",
            "[7, 23, 33, 15, 56, 46, 33, 15, 25, 27]\n",
            "hroaiculol\n",
            "[46, 29, 21, 35, 30, 23, 39, 25, 33, 25]\n",
            "ablitullou\n",
            "[33, 17, 58, 27, 23, 39, 25, 25, 43, 3]\n",
            "fruttaches\n",
            "[45, 29, 3, 0, 20, 33, 56, 46, 16, 15]\n",
            "frodbotick\n",
            "[10, 29, 33, 15, 51, 33, 12, 27, 23, 46]\n"
          ],
          "name": "stdout"
        },
        {
          "output_type": "stream",
          "text": [
            "100%|██████████| 208/208 [08:10<00:00,  2.36s/it]\n"
          ],
          "name": "stderr"
        },
        {
          "output_type": "stream",
          "text": [
            "loss: 23.719709396362305\n",
            "cfubogyach\n",
            "[23, 43, 3, 14, 21, 32, 37, 27, 23, 46]\n"
          ],
          "name": "stdout"
        },
        {
          "output_type": "stream",
          "text": [
            "\r  0%|          | 0/208 [00:00<?, ?it/s]"
          ],
          "name": "stderr"
        },
        {
          "output_type": "stream",
          "text": [
            "========= Results: epoch 4 of 10 =========\n",
            "train loss: 23.91| valid loss: 23.84\n",
            "\n",
            "========= Epoch 5 of 10 =========\n"
          ],
          "name": "stdout"
        },
        {
          "output_type": "stream",
          "text": [
            "\r  0%|          | 1/208 [00:02<09:18,  2.70s/it]"
          ],
          "name": "stderr"
        },
        {
          "output_type": "stream",
          "text": [
            "loss: 23.943851470947266\n",
            "ftamithite\n",
            "[0, 20, 33, 1, 27, 23, 46, 27, 12, 16]\n",
            "bwatoeithl\n",
            "[41, 29, 33, 23, 19, 19, 27, 23, 46, 29]\n",
            "danathffpm\n",
            "[44, 27, 57, 27, 23, 46, 24, 26, 40, 2]\n",
            "pi-etionin\n",
            "[44, 19, 61, 47, 13, 30, 49, 57, 30, 12]\n",
            "cenzacshte\n",
            "[23, 19, 47, 12, 27, 0, 0, 22, 20, 16]\n"
          ],
          "name": "stdout"
        },
        {
          "output_type": "stream",
          "text": [
            " 25%|██▍       | 51/208 [02:01<06:07,  2.34s/it]"
          ],
          "name": "stderr"
        },
        {
          "output_type": "stream",
          "text": [
            "loss: 23.886573791503906\n",
            "insmthismr\n",
            "[61, 47, 20, 59, 23, 46, 19, 0, 20, 29]\n",
            "anlewiteca\n",
            "[61, 57, 58, 16, 29, 27, 12, 16, 15, 27]\n",
            "realdisord\n",
            "[44, 19, 33, 25, 12, 30, 12, 39, 15, 44]\n",
            "bresckrane\n",
            "[41, 29, 19, 7, 23, 39, 29, 33, 12, 16]\n",
            "sphicizees\n",
            "[7, 40, 46, 30, 12, 30, 12, 16, 27, 23]\n"
          ],
          "name": "stdout"
        },
        {
          "output_type": "stream",
          "text": [
            " 49%|████▊     | 101/208 [03:58<04:06,  2.30s/it]"
          ],
          "name": "stderr"
        },
        {
          "output_type": "stream",
          "text": [
            "loss: 23.950580596923828\n",
            "vemmindlea\n",
            "[44, 19, 1, 1, 27, 47, 13, 58, 16, 33]\n",
            "Tathoblyfe\n",
            "[10, 33, 23, 46, 33, 17, 58, 28, 12, 16]\n",
            "wileziaker\n",
            "[40, 27, 25, 27, 12, 30, 6, 12, 16, 29]\n",
            "mandraungi\n",
            "[44, 33, 47, 13, 29, 33, 61, 47, 32, 27]\n",
            "zosharicti\n",
            "[44, 19, 56, 46, 33, 15, 30, 0, 20, 30]\n"
          ],
          "name": "stdout"
        },
        {
          "output_type": "stream",
          "text": [
            " 73%|███████▎  | 151/208 [05:59<02:21,  2.49s/it]"
          ],
          "name": "stderr"
        },
        {
          "output_type": "stream",
          "text": [
            "loss: 23.587657928466797\n",
            "androdryna\n",
            "[61, 47, 13, 29, 21, 13, 29, 28, 57, 33]\n",
            "ogTurralib\n",
            "[33, 32, 42, 39, 15, 29, 33, 25, 27, 17]\n",
            "indfulenec\n",
            "[61, 47, 13, 24, 39, 25, 27, 57, 27, 12]\n",
            "Jaberiflfa\n",
            "[44, 27, 18, 16, 15, 30, 26, 25, 11, 39]\n",
            "unzerysuky\n",
            "[61, 47, 12, 16, 15, 28, 7, 3, 7, 28]\n"
          ],
          "name": "stdout"
        },
        {
          "output_type": "stream",
          "text": [
            " 97%|█████████▋| 201/208 [08:01<00:16,  2.42s/it]"
          ],
          "name": "stderr"
        },
        {
          "output_type": "stream",
          "text": [
            "loss: 23.4899959564209\n",
            "romilobler\n",
            "[44, 19, 1, 27, 25, 33, 17, 58, 16, 15]\n",
            "swrozeissl\n",
            "[7, 40, 29, 21, 12, 16, 27, 0, 20, 58]\n",
            "escomousid\n",
            "[16, 15, 23, 19, 1, 49, 3, 0, 30, 12]\n",
            "prentrarit\n",
            "[40, 29, 27, 47, 13, 29, 33, 12, 30, 12]\n",
            "hcadteojum\n",
            "[54, 23, 33, 47, 23, 16, 43, 50, 3, 1]\n"
          ],
          "name": "stdout"
        },
        {
          "output_type": "stream",
          "text": [
            "100%|██████████| 208/208 [08:16<00:00,  2.39s/it]\n"
          ],
          "name": "stderr"
        },
        {
          "output_type": "stream",
          "text": [
            "loss: 23.988792419433594\n",
            "sobossissi\n",
            "[7, 19, 51, 33, 0, 20, 30, 0, 20, 30]\n"
          ],
          "name": "stdout"
        },
        {
          "output_type": "stream",
          "text": [
            "\r  0%|          | 0/208 [00:00<?, ?it/s]"
          ],
          "name": "stderr"
        },
        {
          "output_type": "stream",
          "text": [
            "========= Results: epoch 5 of 10 =========\n",
            "train loss: 23.71| valid loss: 23.66\n",
            "\n",
            "========= Epoch 6 of 10 =========\n"
          ],
          "name": "stdout"
        },
        {
          "output_type": "stream",
          "text": [
            "\r  0%|          | 1/208 [00:03<10:38,  3.09s/it]"
          ],
          "name": "stderr"
        },
        {
          "output_type": "stream",
          "text": [
            "loss: 23.455408096313477\n",
            "graxorcinu\n",
            "[10, 29, 27, 57, 33, 15, 12, 30, 47, 3]\n",
            "lesymismiv\n",
            "[44, 19, 7, 28, 25, 27, 0, 20, 30, 12]\n",
            "Laphophoch\n",
            "[44, 33, 56, 46, 19, 56, 46, 21, 23, 46]\n",
            "insculuxfl\n",
            "[61, 47, 7, 23, 39, 25, 3, 15, 26, 58]\n",
            "unnencorfr\n",
            "[61, 47, 12, 16, 47, 23, 19, 47, 45, 29]\n"
          ],
          "name": "stdout"
        },
        {
          "output_type": "stream",
          "text": [
            " 25%|██▍       | 51/208 [02:03<06:01,  2.30s/it]"
          ],
          "name": "stderr"
        },
        {
          "output_type": "stream",
          "text": [
            "loss: 23.696876525878906\n",
            "gottemeban\n",
            "[32, 39, 15, 12, 16, 31, 19, 51, 19, 47]\n",
            "misivergga\n",
            "[44, 30, 12, 30, 12, 16, 15, 32, 32, 27]\n",
            "undostalap\n",
            "[61, 47, 13, 21, 7, 23, 33, 25, 33, 40]\n",
            "wDterexyin\n",
            "[44, 27, 12, 16, 15, 16, 15, 48, 27, 47]\n",
            "onermecare\n",
            "[61, 57, 16, 15, 31, 6, 12, 33, 15, 16]\n"
          ],
          "name": "stdout"
        },
        {
          "output_type": "stream",
          "text": [
            " 49%|████▊     | 101/208 [04:03<04:19,  2.43s/it]"
          ],
          "name": "stderr"
        },
        {
          "output_type": "stream",
          "text": [
            "loss: 23.510608673095703\n",
            "thampeetho\n",
            "[23, 46, 33, 1, 40, 16, 27, 23, 46, 21]\n",
            "pumphailgo\n",
            "[10, 61, 53, 40, 46, 33, 27, 47, 32, 49]\n",
            "umwlonllit\n",
            "[61, 53, 40, 29, 19, 57, 25, 25, 30, 0]\n",
            "Cottesteat\n",
            "[44, 33, 0, 20, 16, 0, 20, 16, 6, 12]\n",
            "ulllindiel\n",
            "[61, 25, 25, 25, 30, 47, 32, 30, 6, 25]\n"
          ],
          "name": "stdout"
        },
        {
          "output_type": "stream",
          "text": [
            " 73%|███████▎  | 151/208 [06:00<02:18,  2.42s/it]"
          ],
          "name": "stderr"
        },
        {
          "output_type": "stream",
          "text": [
            "loss: 23.58677864074707\n",
            "jamprastar\n",
            "[44, 27, 53, 40, 29, 33, 0, 20, 33, 15]\n",
            "orderinect\n",
            "[33, 15, 13, 16, 15, 30, 12, 16, 0, 20]\n",
            "cabotablel\n",
            "[44, 33, 5, 33, 32, 6, 17, 58, 16, 25]\n",
            "kctletinea\n",
            "[54, 0, 20, 58, 16, 13, 30, 12, 16, 27]\n",
            "uwbosphriz\n",
            "[61, 1, 5, 19, 7, 40, 46, 29, 27, 12]\n"
          ],
          "name": "stdout"
        },
        {
          "output_type": "stream",
          "text": [
            " 97%|█████████▋| 201/208 [07:58<00:16,  2.38s/it]"
          ],
          "name": "stderr"
        },
        {
          "output_type": "stream",
          "text": [
            "loss: 23.490921020507812\n",
            "deninchabl\n",
            "[44, 16, 47, 27, 47, 23, 46, 33, 17, 58]\n",
            "seprasserr\n",
            "[7, 19, 40, 29, 33, 0, 20, 16, 15, 12]\n",
            "lilypazedi\n",
            "[44, 19, 29, 19, 40, 33, 12, 16, 13, 30]\n",
            "ariceskars\n",
            "[33, 15, 27, 12, 16, 0, 20, 33, 15, 7]\n",
            "brinsurabl\n",
            "[41, 29, 27, 47, 7, 39, 15, 6, 17, 58]\n"
          ],
          "name": "stdout"
        },
        {
          "output_type": "stream",
          "text": [
            "100%|██████████| 208/208 [08:12<00:00,  2.37s/it]\n"
          ],
          "name": "stderr"
        },
        {
          "output_type": "stream",
          "text": [
            "loss: 23.419193267822266\n",
            "fesmotoler\n",
            "[45, 27, 0, 31, 33, 12, 16, 58, 16, 15]\n"
          ],
          "name": "stdout"
        },
        {
          "output_type": "stream",
          "text": [
            "\r  0%|          | 0/208 [00:00<?, ?it/s]"
          ],
          "name": "stderr"
        },
        {
          "output_type": "stream",
          "text": [
            "========= Results: epoch 6 of 10 =========\n",
            "train loss: 23.56| valid loss: 23.54\n",
            "\n",
            "========= Epoch 7 of 10 =========\n"
          ],
          "name": "stdout"
        },
        {
          "output_type": "stream",
          "text": [
            "\r  0%|          | 1/208 [00:02<09:21,  2.71s/it]"
          ],
          "name": "stderr"
        },
        {
          "output_type": "stream",
          "text": [
            "loss: 23.578237533569336\n",
            "hytiendion\n",
            "[46, 28, 20, 30, 6, 47, 13, 30, 49, 57]\n",
            "pobagytale\n",
            "[44, 19, 51, 33, 32, 28, 20, 39, 29, 19]\n",
            "unsoxsnice\n",
            "[61, 47, 7, 39, 15, 7, 57, 30, 12, 16]\n",
            "tosigablni\n",
            "[23, 21, 7, 19, 8, 6, 17, 58, 57, 27]\n",
            "incypesioc\n",
            "[61, 47, 23, 28, 40, 16, 57, 30, 49, 12]\n"
          ],
          "name": "stdout"
        },
        {
          "output_type": "stream",
          "text": [
            " 25%|██▍       | 51/208 [02:01<06:00,  2.30s/it]"
          ],
          "name": "stderr"
        },
        {
          "output_type": "stream",
          "text": [
            "loss: 22.868053436279297\n",
            "Dlasoualdo\n",
            "[10, 29, 33, 15, 49, 3, 6, 25, 13, 21]\n",
            "zoskeialou\n",
            "[44, 19, 0, 20, 16, 13, 33, 25, 43, 3]\n",
            "shocloprag\n",
            "[7, 9, 19, 23, 29, 33, 40, 29, 33, 32]\n",
            "macreghten\n",
            "[44, 33, 23, 29, 27, 32, 22, 20, 16, 57]\n",
            "tulidurias\n",
            "[23, 39, 25, 30, 12, 16, 15, 30, 6, 20]\n"
          ],
          "name": "stdout"
        },
        {
          "output_type": "stream",
          "text": [
            " 49%|████▊     | 101/208 [03:58<04:09,  2.33s/it]"
          ],
          "name": "stderr"
        },
        {
          "output_type": "stream",
          "text": [
            "loss: 23.420818328857422\n",
            "mopeakefga\n",
            "[44, 19, 40, 16, 6, 20, 30, 26, 8, 6]\n",
            "saffysoese\n",
            "[7, 33, 24, 26, 28, 0, 19, 27, 12, 16]\n",
            "incecterdo\n",
            "[61, 47, 20, 16, 0, 20, 16, 15, 13, 19]\n",
            "lentntarti\n",
            "[44, 19, 47, 20, 47, 20, 33, 15, 20, 30]\n",
            "uJullerexp\n",
            "[61, 53, 39, 25, 58, 16, 29, 27, 53, 40]\n"
          ],
          "name": "stdout"
        },
        {
          "output_type": "stream",
          "text": [
            " 73%|███████▎  | 151/208 [05:57<02:12,  2.33s/it]"
          ],
          "name": "stderr"
        },
        {
          "output_type": "stream",
          "text": [
            "loss: 23.307336807250977\n",
            "smacrikery\n",
            "[7, 31, 33, 23, 29, 27, 12, 16, 15, 28]\n",
            "mecerentid\n",
            "[44, 27, 12, 16, 15, 16, 47, 20, 30, 12]\n",
            "alumorunov\n",
            "[33, 25, 3, 1, 39, 15, 19, 47, 33, 12]\n",
            "taOndineom\n",
            "[10, 33, 61, 47, 13, 30, 12, 16, 4, 53]\n",
            "Tilboialag\n",
            "[44, 39, 25, 18, 39, 29, 33, 25, 33, 32]\n"
          ],
          "name": "stdout"
        },
        {
          "output_type": "stream",
          "text": [
            " 97%|█████████▋| 201/208 [07:55<00:16,  2.39s/it]"
          ],
          "name": "stderr"
        },
        {
          "output_type": "stream",
          "text": [
            "loss: 23.340076446533203\n",
            "spulkenwil\n",
            "[7, 40, 39, 25, 12, 16, 47, 32, 27, 25]\n",
            "otediiasen\n",
            "[33, 20, 16, 13, 30, 30, 49, 7, 27, 47]\n",
            "sthogirmes\n",
            "[7, 23, 46, 21, 32, 39, 15, 2, 27, 0]\n",
            "soepeouspe\n",
            "[7, 19, 19, 40, 16, 43, 3, 7, 40, 16]\n",
            "whphqundid\n",
            "[40, 46, 56, 46, 52, 3, 47, 13, 30, 12]\n"
          ],
          "name": "stdout"
        },
        {
          "output_type": "stream",
          "text": [
            "100%|██████████| 208/208 [08:10<00:00,  2.36s/it]\n"
          ],
          "name": "stderr"
        },
        {
          "output_type": "stream",
          "text": [
            "loss: 23.433815002441406\n",
            "rastondurm\n",
            "[44, 33, 0, 23, 19, 47, 13, 39, 15, 31]\n"
          ],
          "name": "stdout"
        },
        {
          "output_type": "stream",
          "text": [
            "\r  0%|          | 0/208 [00:00<?, ?it/s]"
          ],
          "name": "stderr"
        },
        {
          "output_type": "stream",
          "text": [
            "========= Results: epoch 7 of 10 =========\n",
            "train loss: 23.43| valid loss: 23.42\n",
            "\n",
            "========= Epoch 8 of 10 =========\n"
          ],
          "name": "stdout"
        },
        {
          "output_type": "stream",
          "text": [
            "\r  0%|          | 1/208 [00:02<09:32,  2.77s/it]"
          ],
          "name": "stderr"
        },
        {
          "output_type": "stream",
          "text": [
            "loss: 23.675146102905273\n",
            "unirhidael\n",
            "[61, 57, 27, 23, 46, 30, 12, 6, 16, 58]\n",
            "unneynitto\n",
            "[61, 47, 12, 16, 36, 57, 27, 0, 20, 21]\n",
            "amiteridio\n",
            "[33, 1, 30, 12, 16, 15, 30, 12, 30, 49]\n",
            "gepterdrav\n",
            "[44, 19, 56, 20, 16, 15, 13, 29, 33, 12]\n",
            "orionaiano\n",
            "[33, 15, 30, 49, 57, 33, 30, 49, 57, 33]\n"
          ],
          "name": "stdout"
        },
        {
          "output_type": "stream",
          "text": [
            " 25%|██▍       | 51/208 [02:00<06:03,  2.32s/it]"
          ],
          "name": "stderr"
        },
        {
          "output_type": "stream",
          "text": [
            "loss: 23.349206924438477\n",
            "tromicexpe\n",
            "[23, 29, 21, 2, 27, 23, 19, 53, 40, 27]\n",
            "grecennuus\n",
            "[10, 29, 27, 12, 16, 47, 50, 3, 27, 0]\n",
            "jomelepLne\n",
            "[44, 33, 1, 16, 29, 19, 40, 21, 57, 27]\n",
            "obeesticer\n",
            "[34, 38, 19, 27, 0, 20, 30, 12, 16, 15]\n",
            "jipluitock\n",
            "[44, 19, 40, 29, 3, 30, 12, 21, 23, 62]\n"
          ],
          "name": "stdout"
        },
        {
          "output_type": "stream",
          "text": [
            " 49%|████▊     | 101/208 [03:57<04:21,  2.44s/it]"
          ],
          "name": "stderr"
        },
        {
          "output_type": "stream",
          "text": [
            "loss: 23.184364318847656\n",
            "unchytropr\n",
            "[61, 47, 23, 46, 28, 23, 29, 19, 40, 29]\n",
            "entilouson\n",
            "[27, 47, 23, 39, 25, 43, 3, 0, 49, 57]\n",
            "desotitibZ\n",
            "[13, 16, 15, 33, 20, 30, 12, 30, 17, 39]\n",
            "seridocale\n",
            "[7, 16, 15, 30, 12, 21, 23, 33, 25, 27]\n",
            "tensuischi\n",
            "[13, 27, 47, 7, 3, 27, 0, 23, 46, 30]\n"
          ],
          "name": "stdout"
        },
        {
          "output_type": "stream",
          "text": [
            " 73%|███████▎  | 151/208 [05:56<02:20,  2.46s/it]"
          ],
          "name": "stderr"
        },
        {
          "output_type": "stream",
          "text": [
            "loss: 23.37782859802246\n",
            "ceadualenc\n",
            "[44, 27, 33, 23, 3, 33, 25, 19, 47, 12]\n",
            "pherfartha\n",
            "[10, 46, 16, 15, 45, 39, 15, 23, 46, 6]\n",
            "cemeariphr\n",
            "[44, 19, 55, 19, 33, 15, 21, 56, 46, 29]\n",
            "sulonglyti\n",
            "[7, 39, 25, 33, 47, 32, 58, 28, 20, 30]\n",
            "aptikepcis\n",
            "[61, 53, 40, 30, 12, 16, 56, 20, 30, 0]\n"
          ],
          "name": "stdout"
        },
        {
          "output_type": "stream",
          "text": [
            " 97%|█████████▋| 201/208 [07:55<00:16,  2.42s/it]"
          ],
          "name": "stderr"
        },
        {
          "output_type": "stream",
          "text": [
            "loss: 23.197622299194336\n",
            "reselaveis\n",
            "[44, 27, 20, 16, 29, 33, 63, 16, 27, 0]\n",
            "fanaterqub\n",
            "[45, 33, 57, 27, 20, 16, 15, 50, 3, 17]\n",
            "pynicaluch\n",
            "[10, 36, 57, 30, 12, 6, 25, 27, 0, 46]\n",
            "Animifinki\n",
            "[61, 47, 19, 53, 30, 26, 27, 47, 62, 27]\n",
            "cospralida\n",
            "[23, 21, 7, 40, 29, 33, 25, 30, 12, 6]\n"
          ],
          "name": "stdout"
        },
        {
          "output_type": "stream",
          "text": [
            "100%|██████████| 208/208 [08:10<00:00,  2.36s/it]\n"
          ],
          "name": "stderr"
        },
        {
          "output_type": "stream",
          "text": [
            "loss: 23.78843116760254\n",
            "sypyorgela\n",
            "[7, 28, 56, 37, 33, 15, 32, 16, 25, 6]\n"
          ],
          "name": "stdout"
        },
        {
          "output_type": "stream",
          "text": [
            "\r  0%|          | 0/208 [00:00<?, ?it/s]"
          ],
          "name": "stderr"
        },
        {
          "output_type": "stream",
          "text": [
            "========= Results: epoch 8 of 10 =========\n",
            "train loss: 23.33| valid loss: 23.34\n",
            "\n",
            "========= Epoch 9 of 10 =========\n"
          ],
          "name": "stdout"
        },
        {
          "output_type": "stream",
          "text": [
            "\r  0%|          | 1/208 [00:02<09:13,  2.67s/it]"
          ],
          "name": "stderr"
        },
        {
          "output_type": "stream",
          "text": [
            "loss: 23.10491371154785\n",
            "beredetabi\n",
            "[44, 19, 26, 16, 13, 27, 12, 6, 17, 39]\n",
            "jeckerouit\n",
            "[44, 27, 23, 62, 16, 15, 43, 3, 27, 23]\n",
            "detionprin\n",
            "[13, 27, 20, 30, 49, 57, 40, 29, 30, 47]\n",
            "momsplorat\n",
            "[44, 33, 1, 7, 40, 29, 33, 15, 6, 20]\n",
            "ctrasteect\n",
            "[10, 20, 29, 33, 0, 20, 16, 27, 0, 20]\n"
          ],
          "name": "stdout"
        },
        {
          "output_type": "stream",
          "text": [
            " 25%|██▍       | 51/208 [02:02<06:10,  2.36s/it]"
          ],
          "name": "stderr"
        },
        {
          "output_type": "stream",
          "text": [
            "loss: 23.099336624145508\n",
            "unarinteno\n",
            "[61, 47, 33, 15, 27, 47, 23, 19, 47, 19]\n",
            "pelacoatic\n",
            "[10, 16, 25, 33, 12, 16, 6, 20, 30, 12]\n",
            "Gradostide\n",
            "[10, 29, 33, 12, 16, 0, 20, 30, 12, 16]\n",
            "gradamisma\n",
            "[10, 29, 33, 12, 6, 1, 30, 0, 31, 49]\n",
            "bosedicaen\n",
            "[44, 19, 7, 27, 20, 30, 12, 6, 16, 47]\n"
          ],
          "name": "stdout"
        },
        {
          "output_type": "stream",
          "text": [
            " 49%|████▊     | 101/208 [04:00<04:18,  2.41s/it]"
          ],
          "name": "stderr"
        },
        {
          "output_type": "stream",
          "text": [
            "loss: 23.048124313354492\n",
            "diterttesn\n",
            "[44, 27, 20, 16, 15, 20, 4, 19, 7, 57]\n",
            "pemnicchal\n",
            "[40, 19, 1, 57, 27, 0, 23, 46, 6, 25]\n",
            "tanaphenio\n",
            "[23, 33, 47, 33, 56, 46, 16, 57, 30, 21]\n",
            "Prutperina\n",
            "[10, 29, 3, 0, 40, 16, 15, 30, 57, 27]\n",
            "ungrandoye\n",
            "[61, 47, 32, 29, 33, 47, 13, 19, 48, 27]\n"
          ],
          "name": "stdout"
        },
        {
          "output_type": "stream",
          "text": [
            " 73%|███████▎  | 151/208 [05:58<02:05,  2.21s/it]"
          ],
          "name": "stderr"
        },
        {
          "output_type": "stream",
          "text": [
            "loss: 23.15637969970703\n",
            "cetbruelde\n",
            "[44, 27, 20, 41, 29, 3, 27, 25, 13, 27]\n",
            "instriquse\n",
            "[61, 47, 7, 40, 29, 19, 50, 3, 7, 19]\n",
            "Kotednerth\n",
            "[10, 33, 20, 16, 13, 57, 16, 15, 20, 46]\n",
            "sembaliser\n",
            "[7, 19, 1, 38, 19, 25, 27, 20, 16, 15]\n",
            "owrededYom\n",
            "[19, 40, 29, 27, 13, 16, 15, 13, 19, 55]\n"
          ],
          "name": "stdout"
        },
        {
          "output_type": "stream",
          "text": [
            " 97%|█████████▋| 201/208 [07:57<00:16,  2.30s/it]"
          ],
          "name": "stderr"
        },
        {
          "output_type": "stream",
          "text": [
            "loss: 22.931840896606445\n",
            "onginvisti\n",
            "[33, 47, 32, 30, 47, 63, 27, 0, 20, 30]\n",
            "aturcatypi\n",
            "[33, 23, 39, 15, 23, 33, 12, 28, 56, 30]\n",
            "Crarcehvea\n",
            "[10, 29, 33, 15, 23, 19, 46, 63, 16, 6]\n",
            "engliminab\n",
            "[61, 47, 32, 29, 19, 53, 30, 12, 6, 17]\n",
            "coomecteri\n",
            "[44, 19, 21, 2, 27, 0, 20, 16, 15, 30]\n"
          ],
          "name": "stdout"
        },
        {
          "output_type": "stream",
          "text": [
            "100%|██████████| 208/208 [08:11<00:00,  2.36s/it]\n"
          ],
          "name": "stderr"
        },
        {
          "output_type": "stream",
          "text": [
            "loss: 23.043155670166016\n",
            "dukathimma\n",
            "[44, 3, 40, 33, 23, 46, 19, 1, 31, 39]\n"
          ],
          "name": "stdout"
        },
        {
          "output_type": "stream",
          "text": [
            "\r  0%|          | 0/208 [00:00<?, ?it/s]"
          ],
          "name": "stderr"
        },
        {
          "output_type": "stream",
          "text": [
            "========= Results: epoch 9 of 10 =========\n",
            "train loss: 23.27| valid loss: 23.30\n",
            "\n",
            "========= Epoch 10 of 10 =========\n"
          ],
          "name": "stdout"
        },
        {
          "output_type": "stream",
          "text": [
            "\r  0%|          | 1/208 [00:02<08:40,  2.51s/it]"
          ],
          "name": "stderr"
        },
        {
          "output_type": "stream",
          "text": [
            "loss: 22.855552673339844\n",
            "eucterispe\n",
            "[43, 3, 0, 20, 16, 15, 30, 0, 40, 16]\n",
            "uncricishu\n",
            "[61, 47, 23, 29, 30, 12, 30, 0, 46, 3]\n",
            "relicabler\n",
            "[44, 19, 25, 30, 12, 6, 17, 58, 16, 29]\n",
            "curivedoma\n",
            "[10, 39, 29, 19, 63, 16, 13, 33, 1, 33]\n",
            "Emmyrecull\n",
            "[54, 53, 59, 36, 29, 19, 23, 39, 25, 58]\n"
          ],
          "name": "stdout"
        },
        {
          "output_type": "stream",
          "text": [
            " 25%|██▍       | 51/208 [02:01<06:17,  2.40s/it]"
          ],
          "name": "stderr"
        },
        {
          "output_type": "stream",
          "text": [
            "loss: 23.48204231262207\n",
            "Aphhephend\n",
            "[54, 56, 46, 9, 19, 56, 46, 16, 47, 32]\n",
            "stractenta\n",
            "[7, 23, 29, 27, 0, 20, 16, 47, 20, 6]\n",
            "dogrekiani\n",
            "[44, 19, 32, 29, 19, 40, 30, 49, 57, 27]\n",
            "hidodineem\n",
            "[46, 30, 12, 16, 13, 30, 12, 16, 19, 1]\n",
            "linammiuti\n",
            "[44, 19, 47, 33, 1, 2, 27, 47, 20, 30]\n"
          ],
          "name": "stdout"
        },
        {
          "output_type": "stream",
          "text": [
            " 49%|████▊     | 101/208 [04:00<04:19,  2.43s/it]"
          ],
          "name": "stderr"
        },
        {
          "output_type": "stream",
          "text": [
            "loss: 23.29034996032715\n",
            "gusesteede\n",
            "[50, 3, 0, 27, 0, 20, 16, 16, 13, 16]\n",
            "socmalvedi\n",
            "[7, 33, 0, 31, 6, 25, 63, 16, 13, 30]\n",
            "anachteste\n",
            "[61, 47, 33, 23, 22, 20, 16, 0, 12, 16]\n",
            "meshtiaity\n",
            "[44, 27, 0, 22, 20, 30, 6, 30, 12, 28]\n",
            "valionenit\n",
            "[63, 6, 25, 30, 49, 57, 27, 57, 30, 12]\n"
          ],
          "name": "stdout"
        },
        {
          "output_type": "stream",
          "text": [
            " 73%|███████▎  | 151/208 [05:58<02:12,  2.33s/it]"
          ],
          "name": "stderr"
        },
        {
          "output_type": "stream",
          "text": [
            "loss: 23.240320205688477\n",
            "faqusanoto\n",
            "[45, 33, 50, 3, 7, 33, 47, 33, 20, 21]\n",
            "ceatesZmpm\n",
            "[44, 19, 33, 23, 19, 7, 30, 53, 40, 44]\n",
            "unnialinit\n",
            "[61, 47, 57, 30, 49, 25, 30, 57, 27, 20]\n",
            "niniterong\n",
            "[44, 27, 57, 27, 23, 19, 29, 19, 47, 32]\n",
            "hullodolas\n",
            "[46, 39, 25, 25, 33, 12, 16, 29, 33, 0]\n"
          ],
          "name": "stdout"
        },
        {
          "output_type": "stream",
          "text": [
            " 97%|█████████▋| 201/208 [07:56<00:16,  2.32s/it]"
          ],
          "name": "stderr"
        },
        {
          "output_type": "stream",
          "text": [
            "loss: 22.903812408447266\n",
            "sevedagosh\n",
            "[7, 19, 63, 16, 47, 33, 32, 21, 7, 9]\n",
            "cherdrusmo\n",
            "[23, 46, 16, 15, 13, 29, 3, 0, 31, 49]\n",
            "inqustolin\n",
            "[61, 47, 50, 3, 7, 23, 49, 25, 30, 57]\n",
            "pakwaticke\n",
            "[10, 33, 62, 10, 33, 20, 30, 12, 62, 27]\n",
            "seespidabl\n",
            "[7, 19, 19, 7, 40, 30, 12, 6, 17, 58]\n"
          ],
          "name": "stdout"
        },
        {
          "output_type": "stream",
          "text": [
            "100%|██████████| 208/208 [08:11<00:00,  2.36s/it]\n"
          ],
          "name": "stderr"
        },
        {
          "output_type": "stream",
          "text": [
            "loss: 23.413494110107422\n",
            "sagiubcocl\n",
            "[7, 6, 32, 30, 3, 14, 23, 33, 23, 29]\n",
            "========= Results: epoch 10 of 10 =========\n",
            "train loss: 23.24| valid loss: 23.28\n",
            "\n"
          ],
          "name": "stdout"
        }
      ]
    },
    {
      "cell_type": "markdown",
      "metadata": {
        "id": "zymBj9QrDHRM"
      },
      "source": [
        "You may wish to try different values of $N$ and see what the impact on sample quality is."
      ]
    },
    {
      "cell_type": "code",
      "metadata": {
        "id": "auBibYUTtIom",
        "colab": {
          "base_uri": "https://localhost:8080/",
          "height": 82
        },
        "outputId": "48614540-5bc1-4841-deea-1b9363902df0"
      },
      "source": [
        "x = torch.tensor(encode(\"quack\")).unsqueeze(0)\n",
        "T = torch.tensor([5])\n",
        "print(model.viterbi(x,T))\n",
        "\n",
        "x = torch.tensor(encode(\"quick\")).unsqueeze(0)\n",
        "T = torch.tensor([5])\n",
        "print(model.viterbi(x,T))\n",
        "\n",
        "x = torch.tensor(encode(\"qurck\")).unsqueeze(0)\n",
        "T = torch.tensor([5])\n",
        "print(model.viterbi(x,T)) # should have lower probability---in English only vowels follow \"qu\"\n",
        "\n",
        "x = torch.tensor(encode(\"qiick\")).unsqueeze(0)\n",
        "T = torch.tensor([5])\n",
        "print(model.viterbi(x,T)) # should have lower probability---in English only \"u\" follows \"q\"\n"
      ],
      "execution_count": null,
      "outputs": [
        {
          "output_type": "stream",
          "text": [
            "([[50, 3, 33, 23, 62]], tensor([[-15.3021]], grad_fn=<GatherBackward>))\n",
            "([[50, 3, 30, 12, 62]], tensor([[-14.2136]], grad_fn=<GatherBackward>))\n",
            "([[50, 3, 15, 23, 62]], tensor([[-16.0608]], grad_fn=<GatherBackward>))\n",
            "([[50, 3, 30, 12, 62]], tensor([[-21.1464]], grad_fn=<GatherBackward>))\n"
          ],
          "name": "stdout"
        }
      ]
    },
    {
      "cell_type": "markdown",
      "metadata": {
        "id": "7eZeQXWjhDev"
      },
      "source": [
        "## Conclusion\n",
        "\n",
        "HMMs used to be very popular in natural language processing, but they have largely been overshadowed by neural network models like RNNs and Transformers. Still, it is fun and instructive to study the HMM; some commonly used machine learning techniques like [Connectionist Temporal Classification](https://www.cs.toronto.edu/~graves/icml_2006.pdf) are inspired by HMM methods. HMMs are [still used in conjunction with neural networks in speech recognition](https://arxiv.org/abs/1811.07453), where the assumption of a one-hot state makes sense for modelling phonemes, which are spoken one at a time."
      ]
    },
    {
      "cell_type": "markdown",
      "metadata": {
        "id": "gXQOBz5zqe10"
      },
      "source": [
        "## Acknowledgments\n",
        "\n",
        "This notebook is based partly on Lawrence Rabiner's excellent article \"[A Tutorial on Hidden Markov Models and Selected Applications in Speech Recognition](https://www.cs.cmu.edu/~cga/behavior/rabiner1.pdf)\", which you may also like to check out. Thanks also to Dima Serdyuk and Kyle Gorman for their feedback on the draft."
      ]
    }
  ]
}
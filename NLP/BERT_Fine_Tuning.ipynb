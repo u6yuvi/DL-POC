{
  "nbformat": 4,
  "nbformat_minor": 0,
  "metadata": {
    "colab": {
      "name": "BERT Fine Tuning",
      "provenance": [],
      "collapsed_sections": [],
      "include_colab_link": true
    },
    "kernelspec": {
      "name": "python3",
      "display_name": "Python 3"
    }
  },
  "cells": [
    {
      "cell_type": "markdown",
      "metadata": {
        "id": "view-in-github",
        "colab_type": "text"
      },
      "source": [
        "<a href=\"https://colab.research.google.com/github/u6yuvi/DL-POC/blob/main/NLP/BERT_Fine_Tuning.ipynb\" target=\"_parent\"><img src=\"https://colab.research.google.com/assets/colab-badge.svg\" alt=\"Open In Colab\"/></a>"
      ]
    },
    {
      "cell_type": "code",
      "metadata": {
        "id": "0iavZxCu_SCo"
      },
      "source": [
        "from google.colab import drive\n",
        "drive.mount('/content/drive')"
      ],
      "execution_count": null,
      "outputs": []
    },
    {
      "cell_type": "code",
      "metadata": {
        "id": "DvNP0u6_APpR"
      },
      "source": [
        "!pip install pytorch-pretrained-bert\n",
        "!pip install seqeval\n",
        "!sudo pip install git+https://www.github.com/keras-team/keras-contrib.git"
      ],
      "execution_count": null,
      "outputs": []
    },
    {
      "cell_type": "code",
      "metadata": {
        "id": "8552D3QU8f9p"
      },
      "source": [
        "import numpy as np\n",
        "import pandas as pd\n",
        "import csv\n",
        "from collections import defaultdict\n",
        "import json\n",
        "from keras.preprocessing.sequence import pad_sequences\n",
        "from numpy import zeros\n",
        "from keras.utils import to_categorical\n",
        "from keras.preprocessing.text import Tokenizer\n",
        "from keras.models import Model, Input\n",
        "from keras.layers import LSTM, Embedding, Dense, TimeDistributed, Dropout, Bidirectional\n",
        "from keras_contrib.layers import CRF\n",
        "from keras.models import Sequential\n",
        "from keras.callbacks import CSVLogger\n",
        "import pandas as pd\n",
        "from keras_contrib.utils import save_load_utils\n",
        "import matplotlib.pyplot as plt\n",
        "from seqeval.metrics import precision_score, recall_score, f1_score, classification_report\n",
        "import nltk"
      ],
      "execution_count": null,
      "outputs": []
    },
    {
      "cell_type": "code",
      "metadata": {
        "id": "xL3n_fzS8zOW"
      },
      "source": [
        "# Reading required Files\n",
        "list_of_sent_tags = list()\n",
        "list_of_sent_POS_tags = list()\n",
        "list_of_sent_words = list()\n",
        "\n",
        "with open(\"/content/drive/My Drive/Colab Notebooks/Corpus_Sentences_BERT.csv\",\"r\", encoding=\"utf8\") as csv_file:\n",
        "    csv_file = csv.reader(csv_file, delimiter='|', quotechar = '\"')\n",
        "    for row in csv_file:\n",
        "        list_of_sent_words.append(row)\n",
        "\n",
        "with open(\"/content/drive/My Drive/Colab Notebooks/Corpus_Sentences_Tags_BERT.csv\",\"r\", encoding=\"utf8\") as csv_file:\n",
        "    csv_file = csv.reader(csv_file, delimiter='|', quotechar = '\"')\n",
        "    for row in csv_file:\n",
        "        list_of_sent_tags.append(row)\n",
        "    \n",
        "with open(\"/content/drive/My Drive/Colab Notebooks/Corpus_POS_Tags_BERT.csv\",\"r\", encoding=\"utf8\") as csv_file:\n",
        "    csv_file = csv.reader(csv_file, delimiter='|', quotechar = '\"')\n",
        "    for row in csv_file:\n",
        "        list_of_sent_POS_tags.append(row)\n",
        "\t\t\n",
        "list_of_sent_tags_test = list()\n",
        "list_of_sent_POS_tags_test = list()\n",
        "list_of_sent_words_test = list()\n",
        "\n",
        "with open(\"/content/drive/My Drive/Colab Notebooks/Corpus_Sentences_Test_BERT.csv\",\"r\", encoding=\"utf8\") as csv_file:\n",
        "    csv_file = csv.reader(csv_file, delimiter='|', quotechar = '\"')\n",
        "    for row in csv_file:\n",
        "        list_of_sent_words_test.append(row)\n",
        "\n",
        "with open(\"/content/drive/My Drive/Colab Notebooks/Corpus_Sentences_Tags_Test_BERT.csv\",\"r\", encoding=\"utf8\") as csv_file:\n",
        "    csv_file = csv.reader(csv_file, delimiter='|', quotechar = '\"')\n",
        "    for row in csv_file:\n",
        "        list_of_sent_tags_test.append(row)\n",
        "    \n",
        "with open(\"/content/drive/My Drive/Colab Notebooks/Corpus_POS_Tags_Test_BERT.csv\",\"r\", encoding=\"utf8\") as csv_file:\n",
        "    csv_file = csv.reader(csv_file, delimiter='|', quotechar = '\"')\n",
        "    for row in csv_file:\n",
        "        list_of_sent_POS_tags_test.append(row)\n",
        "\t\t\n",
        "new_sent_tags = list_of_sent_tags + list_of_sent_tags_test\n",
        "new_sent_words = list_of_sent_words + list_of_sent_words_test\n",
        "new_sent_POS_tags = list_of_sent_POS_tags + list_of_sent_POS_tags_test\n",
        "\n",
        "req_list_test = [[\"Sentence: \" + str(i + 1), word, POS, tag] for i, (sent, POS_sent, tag_sent) in enumerate(zip(list_of_sent_words_test, list_of_sent_POS_tags_test, list_of_sent_tags_test)) for word, POS, tag in zip(sent, POS_sent, tag_sent)]\n",
        "data_test = pd.DataFrame(req_list_test, columns = [\"Sentence #\", \"Word\", \"POS\", \"Tag\"])\n",
        "data_test.tail(20)\n",
        "\n",
        "req_list_train = [[\"Sentence: \" + str(i + 1), word, POS, tag] for i, (sent, POS_sent, tag_sent) in enumerate(zip(list_of_sent_words, list_of_sent_POS_tags, list_of_sent_tags)) for word, POS, tag in zip(sent, POS_sent, tag_sent)]\n",
        "data_train = pd.DataFrame(req_list_train, columns = [\"Sentence #\", \"Word\", \"POS\", \"Tag\"])\n",
        "data_train.tail(20)\n",
        "\n",
        "req_list = [[\"Sentence: \" + str(i + 1), word, POS, tag] for i, (sent, POS_sent, tag_sent) in enumerate(zip(new_sent_words, new_sent_POS_tags, new_sent_tags)) for word, POS, tag in zip(sent, POS_sent, tag_sent)]\n",
        "data = pd.DataFrame(req_list, columns = [\"Sentence #\", \"Word\", \"POS\", \"Tag\"])\n"
      ],
      "execution_count": null,
      "outputs": []
    },
    {
      "cell_type": "code",
      "metadata": {
        "id": "lUFdX9dg81DL"
      },
      "source": [
        "words = list(set(data[\"Word\"].values))\n",
        "words = sorted(words)\n",
        "words.append(\"endpad\")\n",
        "n_words = len(words); n_words\n",
        "\n",
        "words_tr = list(set(data_train[\"Word\"].values))\n",
        "words_tr = sorted(words_tr)\n",
        "words_tr.append(\"endpad\")\n",
        "n_words_tr = len(words_tr); n_words_tr\n",
        "\n",
        "words_te = list(set(data_test[\"Word\"].values))\n",
        "words_te = sorted(words_te)\n",
        "words_te.append(\"endpad\")\n",
        "n_words_te = len(words_te); n_words_te\n",
        "\n",
        "tags_test = list(set(data_test[\"Tag\"].values))\n",
        "tags_test = sorted(tags_test)\n",
        "n_tags_test = len(tags_test); n_tags_test\n",
        "\n",
        "tags = list(set(data[\"Tag\"].values))\n",
        "tags = sorted(tags)\n",
        "n_tags = len(tags); n_tags"
      ],
      "execution_count": null,
      "outputs": []
    },
    {
      "cell_type": "code",
      "metadata": {
        "id": "KvDD057383Yp"
      },
      "source": [
        "class SentenceGetter(object):\n",
        "    \n",
        "    def __init__(self, data):\n",
        "        self.n_sent = 1\n",
        "        self.data = data\n",
        "        self.empty = False\n",
        "        agg_func = lambda s: [(w, p, t) for w, p, t in zip(s[\"Word\"].values.tolist(),\n",
        "                                                           s[\"POS\"].values.tolist(),\n",
        "                                                           s[\"Tag\"].values.tolist())]\n",
        "        self.grouped = self.data.groupby(\"Sentence #\").apply(agg_func)\n",
        "        self.sentences = [s for s in self.grouped]\n",
        "    \n",
        "    def get_next(self):\n",
        "        try:\n",
        "            s = self.grouped[\"Sentence: {}\".format(self.n_sent)]\n",
        "            self.n_sent += 1\n",
        "            return s\n",
        "        except:\n",
        "            return None"
      ],
      "execution_count": null,
      "outputs": []
    },
    {
      "cell_type": "code",
      "metadata": {
        "id": "GVnQ1QW185Gz"
      },
      "source": [
        "getter = SentenceGetter(data_train)\n",
        "getter_test = SentenceGetter(data_test)\n",
        "sentences = [\" \".join([s[0] for s in sent]) for sent in getter.sentences]\n",
        "sentences_test = [\" \".join([s[0] for s in sent]) for sent in getter_test.sentences]\n",
        "\n",
        "tokenized_texts = [[s[0] for s in sent] for sent in getter.sentences]\n",
        "tokenized_texts_test = [[s[0] for s in sent] for sent in getter_test.sentences]\n",
        "\n",
        "labels = [[s[2] for s in sent] for sent in getter.sentences]\n",
        "labels_test = [[s[2] for s in sent] for sent in getter_test.sentences]\n",
        "print(labels[0])\n"
      ],
      "execution_count": null,
      "outputs": []
    },
    {
      "cell_type": "code",
      "metadata": {
        "id": "QYe3s3D59DBw"
      },
      "source": [
        "tags_vals = list(set(data[\"Tag\"].values))\n",
        "tag2idx = {t: i for i, t in enumerate(tags_vals)}"
      ],
      "execution_count": null,
      "outputs": []
    },
    {
      "cell_type": "code",
      "metadata": {
        "id": "mlkJKcd-9D-v"
      },
      "source": [
        "import torch\n",
        "from torch.optim import Adam\n",
        "from torch.utils.data import TensorDataset, DataLoader, RandomSampler, SequentialSampler\n",
        "from keras.preprocessing.sequence import pad_sequences\n",
        "from sklearn.model_selection import train_test_split\n",
        "from pytorch_pretrained_bert import BertTokenizer\n",
        "from pytorch_pretrained_bert import BertAdam\n",
        "from pytorch_pretrained_bert import BertForTokenClassification"
      ],
      "execution_count": null,
      "outputs": []
    },
    {
      "cell_type": "code",
      "metadata": {
        "id": "YI79JJ7b9FoC"
      },
      "source": [
        "MAX_LEN = 75\n",
        "bs = 32"
      ],
      "execution_count": null,
      "outputs": []
    },
    {
      "cell_type": "code",
      "metadata": {
        "id": "Dp74iFNu9HQz"
      },
      "source": [
        "device = torch.device(\"cuda\" if torch.cuda.is_available() else \"cpu\")\n",
        "n_gpu = torch.cuda.device_count()"
      ],
      "execution_count": null,
      "outputs": []
    },
    {
      "cell_type": "code",
      "metadata": {
        "id": "mNCFks7V9J_N"
      },
      "source": [
        "torch.cuda.get_device_name(0) "
      ],
      "execution_count": null,
      "outputs": []
    },
    {
      "cell_type": "code",
      "metadata": {
        "id": "1ZfUaeVE9LeB"
      },
      "source": [
        "tokenizer = BertTokenizer.from_pretrained('bert-base-uncased', do_lower_case=True)"
      ],
      "execution_count": null,
      "outputs": []
    },
    {
      "cell_type": "code",
      "metadata": {
        "id": "b58Wy9cN9NAA"
      },
      "source": [
        "input_ids = pad_sequences([tokenizer.convert_tokens_to_ids(txt[:512]) for txt in tokenized_texts],\n",
        "                          maxlen=MAX_LEN, dtype=\"long\", truncating=\"post\", padding=\"post\")"
      ],
      "execution_count": null,
      "outputs": []
    },
    {
      "cell_type": "code",
      "metadata": {
        "id": "kEwWubAZ9OuO"
      },
      "source": [
        "input_ids_test = pad_sequences([tokenizer.convert_tokens_to_ids(txt[:512]) for txt in tokenized_texts_test],\n",
        "                          maxlen=MAX_LEN, dtype=\"long\", truncating=\"post\", padding=\"post\")"
      ],
      "execution_count": null,
      "outputs": []
    },
    {
      "cell_type": "code",
      "metadata": {
        "id": "X3P1fizV9QQ4"
      },
      "source": [
        "tags = pad_sequences([[tag2idx.get(l) for l in lab] for lab in labels],\n",
        "                     maxlen=MAX_LEN, value=tag2idx[\"O\"], padding=\"post\",\n",
        "                     dtype=\"long\", truncating=\"post\")"
      ],
      "execution_count": null,
      "outputs": []
    },
    {
      "cell_type": "code",
      "metadata": {
        "id": "K-HmwqBQ9Rmj"
      },
      "source": [
        "tags_test = pad_sequences([[tag2idx.get(l) for l in lab] for lab in labels_test],\n",
        "                     maxlen=MAX_LEN, value=tag2idx[\"O\"], padding=\"post\",\n",
        "                     dtype=\"long\", truncating=\"post\")"
      ],
      "execution_count": null,
      "outputs": []
    },
    {
      "cell_type": "code",
      "metadata": {
        "id": "OWyUQlHa9TV7"
      },
      "source": [
        "attention_masks = [[float(i>0) for i in ii] for ii in input_ids]\n",
        "attention_masks_test = [[float(i>0) for i in ii] for ii in input_ids_test]"
      ],
      "execution_count": null,
      "outputs": []
    },
    {
      "cell_type": "code",
      "metadata": {
        "id": "i0rE-BzD9Utq"
      },
      "source": [
        "\"\"\"\n",
        "The BERT Model requires us to have a [SEP] token at the end of each sentence as a part of its preprocessing. 102 is the index BERT recognizes as the index of [SEP]. Hence, I am adding it to the end of the sentence after padding/truncating\n",
        "(as it might have been removed if the sequences were greater than 75 in length) to be compatible with BERT's requirement. I didn't have it in the beginning and I thought it would be the reason for the poor results but changing it didn't help and I chose to keep it anyways as it felt right. :)\n",
        "\"\"\"\n",
        "for i, inp in enumerate(input_ids):\n",
        "  if(102 not in inp):\n",
        "    inp[-1] = 102\n",
        "    tags[i][-1] = tag2idx.get(\"O\")\n",
        "\n",
        "for i, inp in enumerate(input_ids_test):\n",
        "  if(102 not in inp):\n",
        "    inp[-1] = 102\n",
        "    tags_test[i][-1] = tag2idx.get(\"O\")"
      ],
      "execution_count": null,
      "outputs": []
    },
    {
      "cell_type": "code",
      "metadata": {
        "id": "S8sJ7z_99WlO"
      },
      "source": [
        "tr_inputs, val_inputs, tr_tags, val_tags = train_test_split(input_ids, tags, \n",
        "                                                            random_state=10, test_size=0.1)\n",
        "tr_masks, val_masks, _, _ = train_test_split(attention_masks, input_ids,\n",
        "                                             random_state=10, test_size=0.1)"
      ],
      "execution_count": null,
      "outputs": []
    },
    {
      "cell_type": "code",
      "metadata": {
        "id": "JRMTdM819YXP"
      },
      "source": [
        "tr_inputs = torch.tensor(tr_inputs)\n",
        "val_inputs = torch.tensor(val_inputs)\n",
        "\n",
        "tr_tags = torch.tensor(tr_tags)\n",
        "val_tags = torch.tensor(val_tags)\n",
        "\n",
        "tr_masks = torch.tensor(tr_masks)\n",
        "val_masks = torch.tensor(val_masks)"
      ],
      "execution_count": null,
      "outputs": []
    },
    {
      "cell_type": "code",
      "metadata": {
        "id": "CJY-jic19Zrz"
      },
      "source": [
        "train_data = TensorDataset(tr_inputs, tr_masks, tr_tags)\n",
        "train_sampler = RandomSampler(train_data)\n",
        "train_dataloader = DataLoader(train_data, sampler=train_sampler, batch_size=bs)\n",
        "\n",
        "valid_data = TensorDataset(val_inputs, val_masks, val_tags)\n",
        "valid_sampler = SequentialSampler(valid_data)\n",
        "valid_dataloader = DataLoader(valid_data, sampler=valid_sampler, batch_size=bs)"
      ],
      "execution_count": null,
      "outputs": []
    },
    {
      "cell_type": "code",
      "metadata": {
        "id": "3r6wYHoS9bR9"
      },
      "source": [
        "model = BertForTokenClassification.from_pretrained(\"bert-base-uncased\", num_labels=len(tag2idx))"
      ],
      "execution_count": null,
      "outputs": []
    },
    {
      "cell_type": "code",
      "metadata": {
        "id": "F-KjNlDI9egP"
      },
      "source": [
        "model.cuda();"
      ],
      "execution_count": null,
      "outputs": []
    },
    {
      "cell_type": "code",
      "metadata": {
        "id": "IzSsCKsy9hKw"
      },
      "source": [
        "FULL_FINETUNING = True\n",
        "if FULL_FINETUNING:\n",
        "    param_optimizer = list(model.named_parameters())\n",
        "    no_decay = ['bias', 'gamma', 'beta']\n",
        "    optimizer_grouped_parameters = [\n",
        "        {'params': [p for n, p in param_optimizer if not any(nd in n for nd in no_decay)],\n",
        "         'weight_decay_rate': 0.01},\n",
        "        {'params': [p for n, p in param_optimizer if any(nd in n for nd in no_decay)],\n",
        "         'weight_decay_rate': 0.0}\n",
        "    ]\n",
        "else:\n",
        "    param_optimizer = list(model.classifier.named_parameters()) \n",
        "    optimizer_grouped_parameters = [{\"params\": [p for n, p in param_optimizer]}]\n",
        "optimizer = Adam(optimizer_grouped_parameters, lr=3e-5)"
      ],
      "execution_count": null,
      "outputs": []
    },
    {
      "cell_type": "code",
      "metadata": {
        "id": "OfeiaQ0p9iB2"
      },
      "source": [
        "from seqeval.metrics import f1_score\n",
        "\n",
        "def flat_accuracy(preds, labels):\n",
        "    pred_flat = np.argmax(preds, axis=2).flatten()\n",
        "    labels_flat = labels.flatten()\n",
        "    return np.sum(pred_flat == labels_flat) / len(labels_flat)"
      ],
      "execution_count": null,
      "outputs": []
    },
    {
      "cell_type": "code",
      "metadata": {
        "id": "7QGRib0J9jkG"
      },
      "source": [
        "from tqdm import tqdm, trange\n",
        "epochs = 5\n",
        "max_grad_norm = 1.0\n",
        "\n",
        "for _ in trange(epochs, desc=\"Epoch\"):\n",
        "    # TRAIN loop\n",
        "    model.train()\n",
        "    tr_loss = 0\n",
        "    nb_tr_examples, nb_tr_steps = 0, 0\n",
        "    for step, batch in enumerate(train_dataloader):\n",
        "        # add batch to gpu\n",
        "        batch = tuple(t.to(device) for t in batch)\n",
        "        b_input_ids, b_input_mask, b_labels = batch\n",
        "        # forward pass\n",
        "        loss = model(b_input_ids, token_type_ids=None,\n",
        "                     attention_mask=b_input_mask, labels=b_labels)\n",
        "        # backward pass\n",
        "        loss.backward()\n",
        "        # track train loss\n",
        "        tr_loss += loss.item()\n",
        "        nb_tr_examples += b_input_ids.size(0)\n",
        "        nb_tr_steps += 1\n",
        "        # gradient clipping\n",
        "        torch.nn.utils.clip_grad_norm_(parameters=model.parameters(), max_norm=max_grad_norm)\n",
        "        # update parameters\n",
        "        optimizer.step()\n",
        "        model.zero_grad()\n",
        "    # print train loss per epoch\n",
        "    print(\"\\nTrain loss: {}\".format(tr_loss/nb_tr_steps))\n",
        "    # VALIDATION on validation set\n",
        "    model.eval()\n",
        "    eval_loss, eval_accuracy = 0, 0\n",
        "    nb_eval_steps, nb_eval_examples = 0, 0\n",
        "    predictions , true_labels = [], []\n",
        "    for batch in valid_dataloader:\n",
        "        batch = tuple(t.to(device) for t in batch)\n",
        "        b_input_ids, b_input_mask, b_labels = batch\n",
        "        \n",
        "        with torch.no_grad():\n",
        "            tmp_eval_loss = model(b_input_ids, token_type_ids=None,\n",
        "                                  attention_mask=b_input_mask, labels=b_labels)\n",
        "            logits = model(b_input_ids, token_type_ids=None,\n",
        "                           attention_mask=b_input_mask)\n",
        "        logits = logits.detach().cpu().numpy()\n",
        "        label_ids = b_labels.to('cpu').numpy()\n",
        "        predictions.extend([list(p) for p in np.argmax(logits, axis=2)])\n",
        "        true_labels.append(label_ids)\n",
        "        \n",
        "        tmp_eval_accuracy = flat_accuracy(logits, label_ids)\n",
        "        eval_loss += tmp_eval_loss.mean().item()\n",
        "        eval_accuracy += tmp_eval_accuracy\n",
        "        \n",
        "        nb_eval_examples += b_input_ids.size(0)\n",
        "        nb_eval_steps += 1\n",
        "    eval_loss = eval_loss/nb_eval_steps\n",
        "    print(\"Validation loss: {}\".format(eval_loss))\n",
        "    print(\"Validation Accuracy: {}\".format(eval_accuracy/nb_eval_steps))\n",
        "    pred_tags = [tags_vals[p_i] for p in predictions for p_i in p]\n",
        "    valid_tags = [tags_vals[l_ii] for l in true_labels for l_i in l for l_ii in l_i]\n",
        "    print(\"F1-Score: {}\".format(f1_score(valid_tags, pred_tags)))"
      ],
      "execution_count": null,
      "outputs": []
    },
    {
      "cell_type": "code",
      "metadata": {
        "id": "HS7UQ3Uk9lGZ"
      },
      "source": [
        "te_inputs = torch.tensor(input_ids_test)\n",
        "te_tags = torch.tensor(tags_test)\n",
        "te_masks = torch.tensor(attention_masks_test)\n",
        "\n",
        "test_data = TensorDataset(te_inputs, te_masks, te_tags)\n",
        "test_sampler = SequentialSampler(test_data)\n",
        "test_dataloader = DataLoader(test_data, sampler=test_sampler, batch_size=bs)"
      ],
      "execution_count": null,
      "outputs": []
    },
    {
      "cell_type": "code",
      "metadata": {
        "id": "Ae62es4i9sau"
      },
      "source": [
        "model.eval()\n",
        "predictions = []\n",
        "true_labels = []\n",
        "eval_loss, eval_accuracy = 0, 0\n",
        "nb_eval_steps, nb_eval_examples = 0, 0\n",
        "for batch in test_dataloader:\n",
        "    batch = tuple(t.to(device) for t in batch)\n",
        "    b_input_ids, b_input_mask, b_labels = batch\n",
        "\n",
        "    with torch.no_grad():\n",
        "        tmp_eval_loss = model(b_input_ids, token_type_ids=None,\n",
        "                              attention_mask=b_input_mask, labels=b_labels)\n",
        "        logits = model(b_input_ids, token_type_ids=None,\n",
        "                       attention_mask=b_input_mask)\n",
        "        \n",
        "    logits = logits.detach().cpu().numpy()\n",
        "    predictions.extend([list(p) for p in np.argmax(logits, axis=2)])\n",
        "    label_ids = b_labels.to('cpu').numpy()\n",
        "    true_labels.append(label_ids)\n",
        "    tmp_eval_accuracy = flat_accuracy(logits, label_ids)\n",
        "\n",
        "    eval_loss += tmp_eval_loss.mean().item()\n",
        "    eval_accuracy += tmp_eval_accuracy\n",
        "\n",
        "    nb_eval_examples += b_input_ids.size(0)\n",
        "    nb_eval_steps += 1\n",
        "\n",
        "pred_tags = [[tags_vals[p_i] for p_i in p] for p in predictions]\n",
        "test_tags = [[tags_vals[l_ii] for l_ii in l_i] for l in true_labels for l_i in l ]"
      ],
      "execution_count": null,
      "outputs": []
    },
    {
      "cell_type": "code",
      "metadata": {
        "id": "c1Rvrznj9uSA"
      },
      "source": [
        "tags_test_fin = list()\n",
        "for l in tags_test:\n",
        "  temp_tag = list()\n",
        "  for l_i in l:\n",
        "    temp_tag.append(tags_vals[l_i])\n",
        "  tags_test_fin.append(temp_tag)"
      ],
      "execution_count": null,
      "outputs": []
    },
    {
      "cell_type": "code",
      "metadata": {
        "id": "-yE5jYiK9wEi"
      },
      "source": [
        "for pred_label, test_label, label_test in zip(pred_tags, test_tags,tags_test_fin):\n",
        "  for i, pl in enumerate(pred_label):\n",
        "    if pl == 'X':\n",
        "        pred_label[i] = pred_label[i-1].replace(\"B\", \"I\")\n",
        "  for i, tl in enumerate(test_label):\n",
        "    if tl == 'X':\n",
        "        test_label[i] = test_label[i-1].replace(\"B\", \"I\")\n",
        "  for i, tl in enumerate(label_test):\n",
        "    if tl == 'X':\n",
        "        label_test[i] = label_test[i-1].replace(\"B\", \"I\")"
      ],
      "execution_count": null,
      "outputs": []
    },
    {
      "cell_type": "code",
      "metadata": {
        "id": "55lVs2Bq90t4"
      },
      "source": [
        "print(\"Test loss: {}\".format(eval_loss/nb_eval_steps))\n",
        "print(\"Test Accuracy: {}\".format(eval_accuracy/nb_eval_steps))\n",
        "print(\"Test F1-Score: {}\".format(f1_score(tags_test_fin, pred_tags)))"
      ],
      "execution_count": null,
      "outputs": []
    },
    {
      "cell_type": "code",
      "metadata": {
        "id": "E-iS5YTl93p-"
      },
      "source": [
        "print(classification_report(tags_test_fin, pred_tags))"
      ],
      "execution_count": null,
      "outputs": []
    },
    {
      "cell_type": "code",
      "metadata": {
        "id": "03ektHyK9553"
      },
      "source": [
        "print(\"Number of Test sentences: \", len(tags_test_fin))\n",
        "print(\"Number of Predicted sentences: \", len(train_data))"
      ],
      "execution_count": null,
      "outputs": []
    }
  ]
}